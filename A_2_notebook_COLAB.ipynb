{
  "cells": [
    {
      "cell_type": "markdown",
      "metadata": {
        "id": "view-in-github",
        "colab_type": "text"
      },
      "source": [
        "<a href=\"https://colab.research.google.com/github/Juanjo2712/Pokemon/blob/main/A_2_notebook_COLAB.ipynb\" target=\"_parent\"><img src=\"https://colab.research.google.com/assets/colab-badge.svg\" alt=\"Open In Colab\"/></a>"
      ]
    },
    {
      "cell_type": "markdown",
      "metadata": {
        "id": "1ZxCn1X2NBhh"
      },
      "source": [
        "# Assignment 2\n",
        "## Topics 4 - 5\n",
        "\n",
        "\n",
        "This assignment is performed **in pairs** following the *Groups for Assignments* list.\n",
        "\n",
        "To turn the assignment in, upload it to the task that has been created in moodle before midnight on Monday, November 14.\n",
        "\n",
        "--- \n",
        "\n"
      ]
    },
    {
      "cell_type": "markdown",
      "metadata": {
        "dc": {
          "key": "4"
        },
        "deletable": false,
        "editable": false,
        "run_control": {
          "frozen": true
        },
        "tags": [
          "context"
        ],
        "id": "A3mq1GFMNBhm"
      },
      "source": [
        "## 1. Introduction\n",
        "<p>In the world of Pokémon academia, one name towers above any other – Professor Samuel Oak. While his colleague Professor Elm specializes in Pokémon evolution, Oak has dedicated his career to understanding the relationship between Pokémon and their human trainers. A former trainer himself, the professor has first-hand experience of how obstinate Pokémon can be – particularly when they hold legendary status.</p>\n",
        "<p>For his latest research project, Professor Oak has decided to investigate the defining characteristics of legendary Pokémon to improve our understanding of their temperament. Hearing of our expertise in classification problems, he has enlisted us as the lead researchers.</p>\n",
        "<p>Our journey begins at the professor's research lab in Pallet Town, Kanto. The first step is to open up the Pokédex, an encyclopaedic guide to 801 Pokémon from all seven generations.</p>\n",
        "<p><img src=\"https://assets.datacamp.com/production/project_712/img/legendary_pokemon.jpg\" alt=\"Legendary Pokémon\"></p>\n",
        "<p><em>Source: <a href=\"https://www.flickr.com/photos/bagogames/\">bagogames</a> on Flickr</em></p>"
      ]
    },
    {
      "cell_type": "markdown",
      "metadata": {
        "id": "GQOpCOOrNBho"
      },
      "source": [
        "These are the variables in the *Pokemon* dataset (*pokedex.csv*):\n",
        "\n",
        "- **pokedex_number**: The entry number of the Pokemon in the National Pokedex\n",
        "- **name**: The English name of the Pokemon\n",
        "- **attack**: The Base Attack of the Pokemon\n",
        "- **defense**: The Base Defense of the Pokemon\n",
        "- **height_m**: Height of the Pokemon in metres\n",
        "- **hp**: The Base HP of the Pokemon\n",
        "- **percentage_male**: The percentage of the species that are male. Blank if the Pokemon is genderless.\n",
        "- **sp_attack**: The Base Special Attack of the Pokemon\n",
        "- **sp_defense**: The Base Special Defense of the Pokemon\n",
        "- **speed**: The Base Speed of the Pokemon\n",
        "- **type1**: The Primary Type of the Pokemon\n",
        "- **weight_kg**: The Weight of the Pokemon in kilograms\n",
        "- **generation**: The numbered generation which the Pokemon was first introduced\n",
        "- **is_legendary**: Denotes if the Pokemon is legendary.\n"
      ]
    },
    {
      "cell_type": "markdown",
      "metadata": {
        "id": "CsHpJRrCNBhp"
      },
      "source": [
        "### Load your data and take a look at it"
      ]
    },
    {
      "cell_type": "code",
      "execution_count": 2,
      "metadata": {
        "dc": {
          "key": "4"
        },
        "tags": [
          "sample_code"
        ],
        "vscode": {
          "languageId": "r"
        },
        "colab": {
          "base_uri": "https://localhost:8080/",
          "height": 511
        },
        "id": "mR7pJBkiNBhq",
        "outputId": "eb44a5fe-f12d-46f7-dded-8b7e4c1bae8a"
      },
      "outputs": [
        {
          "output_type": "display_data",
          "data": {
            "text/plain": [
              "<IPython.core.display.HTML object>"
            ],
            "text/html": [
              "\n",
              "     <input type=\"file\" id=\"files-ce0744f1-99c9-44c7-81c5-0f692c8c1151\" name=\"files[]\" multiple disabled\n",
              "        style=\"border:none\" />\n",
              "     <output id=\"result-ce0744f1-99c9-44c7-81c5-0f692c8c1151\">\n",
              "      Upload widget is only available when the cell has been executed in the\n",
              "      current browser session. Please rerun this cell to enable.\n",
              "      </output>\n",
              "      <script>// Copyright 2017 Google LLC\n",
              "//\n",
              "// Licensed under the Apache License, Version 2.0 (the \"License\");\n",
              "// you may not use this file except in compliance with the License.\n",
              "// You may obtain a copy of the License at\n",
              "//\n",
              "//      http://www.apache.org/licenses/LICENSE-2.0\n",
              "//\n",
              "// Unless required by applicable law or agreed to in writing, software\n",
              "// distributed under the License is distributed on an \"AS IS\" BASIS,\n",
              "// WITHOUT WARRANTIES OR CONDITIONS OF ANY KIND, either express or implied.\n",
              "// See the License for the specific language governing permissions and\n",
              "// limitations under the License.\n",
              "\n",
              "/**\n",
              " * @fileoverview Helpers for google.colab Python module.\n",
              " */\n",
              "(function(scope) {\n",
              "function span(text, styleAttributes = {}) {\n",
              "  const element = document.createElement('span');\n",
              "  element.textContent = text;\n",
              "  for (const key of Object.keys(styleAttributes)) {\n",
              "    element.style[key] = styleAttributes[key];\n",
              "  }\n",
              "  return element;\n",
              "}\n",
              "\n",
              "// Max number of bytes which will be uploaded at a time.\n",
              "const MAX_PAYLOAD_SIZE = 100 * 1024;\n",
              "\n",
              "function _uploadFiles(inputId, outputId) {\n",
              "  const steps = uploadFilesStep(inputId, outputId);\n",
              "  const outputElement = document.getElementById(outputId);\n",
              "  // Cache steps on the outputElement to make it available for the next call\n",
              "  // to uploadFilesContinue from Python.\n",
              "  outputElement.steps = steps;\n",
              "\n",
              "  return _uploadFilesContinue(outputId);\n",
              "}\n",
              "\n",
              "// This is roughly an async generator (not supported in the browser yet),\n",
              "// where there are multiple asynchronous steps and the Python side is going\n",
              "// to poll for completion of each step.\n",
              "// This uses a Promise to block the python side on completion of each step,\n",
              "// then passes the result of the previous step as the input to the next step.\n",
              "function _uploadFilesContinue(outputId) {\n",
              "  const outputElement = document.getElementById(outputId);\n",
              "  const steps = outputElement.steps;\n",
              "\n",
              "  const next = steps.next(outputElement.lastPromiseValue);\n",
              "  return Promise.resolve(next.value.promise).then((value) => {\n",
              "    // Cache the last promise value to make it available to the next\n",
              "    // step of the generator.\n",
              "    outputElement.lastPromiseValue = value;\n",
              "    return next.value.response;\n",
              "  });\n",
              "}\n",
              "\n",
              "/**\n",
              " * Generator function which is called between each async step of the upload\n",
              " * process.\n",
              " * @param {string} inputId Element ID of the input file picker element.\n",
              " * @param {string} outputId Element ID of the output display.\n",
              " * @return {!Iterable<!Object>} Iterable of next steps.\n",
              " */\n",
              "function* uploadFilesStep(inputId, outputId) {\n",
              "  const inputElement = document.getElementById(inputId);\n",
              "  inputElement.disabled = false;\n",
              "\n",
              "  const outputElement = document.getElementById(outputId);\n",
              "  outputElement.innerHTML = '';\n",
              "\n",
              "  const pickedPromise = new Promise((resolve) => {\n",
              "    inputElement.addEventListener('change', (e) => {\n",
              "      resolve(e.target.files);\n",
              "    });\n",
              "  });\n",
              "\n",
              "  const cancel = document.createElement('button');\n",
              "  inputElement.parentElement.appendChild(cancel);\n",
              "  cancel.textContent = 'Cancel upload';\n",
              "  const cancelPromise = new Promise((resolve) => {\n",
              "    cancel.onclick = () => {\n",
              "      resolve(null);\n",
              "    };\n",
              "  });\n",
              "\n",
              "  // Wait for the user to pick the files.\n",
              "  const files = yield {\n",
              "    promise: Promise.race([pickedPromise, cancelPromise]),\n",
              "    response: {\n",
              "      action: 'starting',\n",
              "    }\n",
              "  };\n",
              "\n",
              "  cancel.remove();\n",
              "\n",
              "  // Disable the input element since further picks are not allowed.\n",
              "  inputElement.disabled = true;\n",
              "\n",
              "  if (!files) {\n",
              "    return {\n",
              "      response: {\n",
              "        action: 'complete',\n",
              "      }\n",
              "    };\n",
              "  }\n",
              "\n",
              "  for (const file of files) {\n",
              "    const li = document.createElement('li');\n",
              "    li.append(span(file.name, {fontWeight: 'bold'}));\n",
              "    li.append(span(\n",
              "        `(${file.type || 'n/a'}) - ${file.size} bytes, ` +\n",
              "        `last modified: ${\n",
              "            file.lastModifiedDate ? file.lastModifiedDate.toLocaleDateString() :\n",
              "                                    'n/a'} - `));\n",
              "    const percent = span('0% done');\n",
              "    li.appendChild(percent);\n",
              "\n",
              "    outputElement.appendChild(li);\n",
              "\n",
              "    const fileDataPromise = new Promise((resolve) => {\n",
              "      const reader = new FileReader();\n",
              "      reader.onload = (e) => {\n",
              "        resolve(e.target.result);\n",
              "      };\n",
              "      reader.readAsArrayBuffer(file);\n",
              "    });\n",
              "    // Wait for the data to be ready.\n",
              "    let fileData = yield {\n",
              "      promise: fileDataPromise,\n",
              "      response: {\n",
              "        action: 'continue',\n",
              "      }\n",
              "    };\n",
              "\n",
              "    // Use a chunked sending to avoid message size limits. See b/62115660.\n",
              "    let position = 0;\n",
              "    do {\n",
              "      const length = Math.min(fileData.byteLength - position, MAX_PAYLOAD_SIZE);\n",
              "      const chunk = new Uint8Array(fileData, position, length);\n",
              "      position += length;\n",
              "\n",
              "      const base64 = btoa(String.fromCharCode.apply(null, chunk));\n",
              "      yield {\n",
              "        response: {\n",
              "          action: 'append',\n",
              "          file: file.name,\n",
              "          data: base64,\n",
              "        },\n",
              "      };\n",
              "\n",
              "      let percentDone = fileData.byteLength === 0 ?\n",
              "          100 :\n",
              "          Math.round((position / fileData.byteLength) * 100);\n",
              "      percent.textContent = `${percentDone}% done`;\n",
              "\n",
              "    } while (position < fileData.byteLength);\n",
              "  }\n",
              "\n",
              "  // All done.\n",
              "  yield {\n",
              "    response: {\n",
              "      action: 'complete',\n",
              "    }\n",
              "  };\n",
              "}\n",
              "\n",
              "scope.google = scope.google || {};\n",
              "scope.google.colab = scope.google.colab || {};\n",
              "scope.google.colab._files = {\n",
              "  _uploadFiles,\n",
              "  _uploadFilesContinue,\n",
              "};\n",
              "})(self);\n",
              "</script> "
            ]
          },
          "metadata": {}
        },
        {
          "output_type": "stream",
          "name": "stdout",
          "text": [
            "Saving pokedex.csv to pokedex (1).csv\n"
          ]
        },
        {
          "output_type": "display_data",
          "data": {
            "text/plain": [
              "                      name  attack  defense  height_m   hp  percentage_male  \\\n",
              "pokedex_number                                                                \n",
              "1                Bulbasaur      49       49       0.7   45             88.1   \n",
              "2                  Ivysaur      62       63       1.0   60             88.1   \n",
              "3                 Venusaur     100      123       2.0   80             88.1   \n",
              "4               Charmander      52       43       0.6   39             88.1   \n",
              "5               Charmeleon      64       58       1.1   58             88.1   \n",
              "...                    ...     ...      ...       ...  ...              ...   \n",
              "797             Celesteela     101      103       9.2   97              NaN   \n",
              "798                Kartana     181      131       0.3   59              NaN   \n",
              "799               Guzzlord     101       53       5.5  223              NaN   \n",
              "800               Necrozma     107      101       2.4   97              NaN   \n",
              "801               Magearna      95      115       1.0   80              NaN   \n",
              "\n",
              "                sp_attack  sp_defense  speed     type  weight_kg  generation  \\\n",
              "pokedex_number                                                                 \n",
              "1                      65          65     45    grass        6.9           1   \n",
              "2                      80          80     60    grass       13.0           1   \n",
              "3                     122         120     80    grass      100.0           1   \n",
              "4                      60          50     65     fire        8.5           1   \n",
              "5                      80          65     80     fire       19.0           1   \n",
              "...                   ...         ...    ...      ...        ...         ...   \n",
              "797                   107         101     61    steel      999.9           7   \n",
              "798                    59          31    109    grass        0.1           7   \n",
              "799                    97          53     43     dark      888.0           7   \n",
              "800                   127          89     79  psychic      230.0           7   \n",
              "801                   130         115     65    steel       80.5           7   \n",
              "\n",
              "                is_legendary  \n",
              "pokedex_number                \n",
              "1                          0  \n",
              "2                          0  \n",
              "3                          0  \n",
              "4                          0  \n",
              "5                          0  \n",
              "...                      ...  \n",
              "797                        1  \n",
              "798                        1  \n",
              "799                        1  \n",
              "800                        1  \n",
              "801                        1  \n",
              "\n",
              "[801 rows x 13 columns]"
            ],
            "text/html": [
              "\n",
              "  <div id=\"df-bd3869db-569d-4d7c-9664-5d2dff832328\">\n",
              "    <div class=\"colab-df-container\">\n",
              "      <div>\n",
              "<style scoped>\n",
              "    .dataframe tbody tr th:only-of-type {\n",
              "        vertical-align: middle;\n",
              "    }\n",
              "\n",
              "    .dataframe tbody tr th {\n",
              "        vertical-align: top;\n",
              "    }\n",
              "\n",
              "    .dataframe thead th {\n",
              "        text-align: right;\n",
              "    }\n",
              "</style>\n",
              "<table border=\"1\" class=\"dataframe\">\n",
              "  <thead>\n",
              "    <tr style=\"text-align: right;\">\n",
              "      <th></th>\n",
              "      <th>name</th>\n",
              "      <th>attack</th>\n",
              "      <th>defense</th>\n",
              "      <th>height_m</th>\n",
              "      <th>hp</th>\n",
              "      <th>percentage_male</th>\n",
              "      <th>sp_attack</th>\n",
              "      <th>sp_defense</th>\n",
              "      <th>speed</th>\n",
              "      <th>type</th>\n",
              "      <th>weight_kg</th>\n",
              "      <th>generation</th>\n",
              "      <th>is_legendary</th>\n",
              "    </tr>\n",
              "    <tr>\n",
              "      <th>pokedex_number</th>\n",
              "      <th></th>\n",
              "      <th></th>\n",
              "      <th></th>\n",
              "      <th></th>\n",
              "      <th></th>\n",
              "      <th></th>\n",
              "      <th></th>\n",
              "      <th></th>\n",
              "      <th></th>\n",
              "      <th></th>\n",
              "      <th></th>\n",
              "      <th></th>\n",
              "      <th></th>\n",
              "    </tr>\n",
              "  </thead>\n",
              "  <tbody>\n",
              "    <tr>\n",
              "      <th>1</th>\n",
              "      <td>Bulbasaur</td>\n",
              "      <td>49</td>\n",
              "      <td>49</td>\n",
              "      <td>0.7</td>\n",
              "      <td>45</td>\n",
              "      <td>88.1</td>\n",
              "      <td>65</td>\n",
              "      <td>65</td>\n",
              "      <td>45</td>\n",
              "      <td>grass</td>\n",
              "      <td>6.9</td>\n",
              "      <td>1</td>\n",
              "      <td>0</td>\n",
              "    </tr>\n",
              "    <tr>\n",
              "      <th>2</th>\n",
              "      <td>Ivysaur</td>\n",
              "      <td>62</td>\n",
              "      <td>63</td>\n",
              "      <td>1.0</td>\n",
              "      <td>60</td>\n",
              "      <td>88.1</td>\n",
              "      <td>80</td>\n",
              "      <td>80</td>\n",
              "      <td>60</td>\n",
              "      <td>grass</td>\n",
              "      <td>13.0</td>\n",
              "      <td>1</td>\n",
              "      <td>0</td>\n",
              "    </tr>\n",
              "    <tr>\n",
              "      <th>3</th>\n",
              "      <td>Venusaur</td>\n",
              "      <td>100</td>\n",
              "      <td>123</td>\n",
              "      <td>2.0</td>\n",
              "      <td>80</td>\n",
              "      <td>88.1</td>\n",
              "      <td>122</td>\n",
              "      <td>120</td>\n",
              "      <td>80</td>\n",
              "      <td>grass</td>\n",
              "      <td>100.0</td>\n",
              "      <td>1</td>\n",
              "      <td>0</td>\n",
              "    </tr>\n",
              "    <tr>\n",
              "      <th>4</th>\n",
              "      <td>Charmander</td>\n",
              "      <td>52</td>\n",
              "      <td>43</td>\n",
              "      <td>0.6</td>\n",
              "      <td>39</td>\n",
              "      <td>88.1</td>\n",
              "      <td>60</td>\n",
              "      <td>50</td>\n",
              "      <td>65</td>\n",
              "      <td>fire</td>\n",
              "      <td>8.5</td>\n",
              "      <td>1</td>\n",
              "      <td>0</td>\n",
              "    </tr>\n",
              "    <tr>\n",
              "      <th>5</th>\n",
              "      <td>Charmeleon</td>\n",
              "      <td>64</td>\n",
              "      <td>58</td>\n",
              "      <td>1.1</td>\n",
              "      <td>58</td>\n",
              "      <td>88.1</td>\n",
              "      <td>80</td>\n",
              "      <td>65</td>\n",
              "      <td>80</td>\n",
              "      <td>fire</td>\n",
              "      <td>19.0</td>\n",
              "      <td>1</td>\n",
              "      <td>0</td>\n",
              "    </tr>\n",
              "    <tr>\n",
              "      <th>...</th>\n",
              "      <td>...</td>\n",
              "      <td>...</td>\n",
              "      <td>...</td>\n",
              "      <td>...</td>\n",
              "      <td>...</td>\n",
              "      <td>...</td>\n",
              "      <td>...</td>\n",
              "      <td>...</td>\n",
              "      <td>...</td>\n",
              "      <td>...</td>\n",
              "      <td>...</td>\n",
              "      <td>...</td>\n",
              "      <td>...</td>\n",
              "    </tr>\n",
              "    <tr>\n",
              "      <th>797</th>\n",
              "      <td>Celesteela</td>\n",
              "      <td>101</td>\n",
              "      <td>103</td>\n",
              "      <td>9.2</td>\n",
              "      <td>97</td>\n",
              "      <td>NaN</td>\n",
              "      <td>107</td>\n",
              "      <td>101</td>\n",
              "      <td>61</td>\n",
              "      <td>steel</td>\n",
              "      <td>999.9</td>\n",
              "      <td>7</td>\n",
              "      <td>1</td>\n",
              "    </tr>\n",
              "    <tr>\n",
              "      <th>798</th>\n",
              "      <td>Kartana</td>\n",
              "      <td>181</td>\n",
              "      <td>131</td>\n",
              "      <td>0.3</td>\n",
              "      <td>59</td>\n",
              "      <td>NaN</td>\n",
              "      <td>59</td>\n",
              "      <td>31</td>\n",
              "      <td>109</td>\n",
              "      <td>grass</td>\n",
              "      <td>0.1</td>\n",
              "      <td>7</td>\n",
              "      <td>1</td>\n",
              "    </tr>\n",
              "    <tr>\n",
              "      <th>799</th>\n",
              "      <td>Guzzlord</td>\n",
              "      <td>101</td>\n",
              "      <td>53</td>\n",
              "      <td>5.5</td>\n",
              "      <td>223</td>\n",
              "      <td>NaN</td>\n",
              "      <td>97</td>\n",
              "      <td>53</td>\n",
              "      <td>43</td>\n",
              "      <td>dark</td>\n",
              "      <td>888.0</td>\n",
              "      <td>7</td>\n",
              "      <td>1</td>\n",
              "    </tr>\n",
              "    <tr>\n",
              "      <th>800</th>\n",
              "      <td>Necrozma</td>\n",
              "      <td>107</td>\n",
              "      <td>101</td>\n",
              "      <td>2.4</td>\n",
              "      <td>97</td>\n",
              "      <td>NaN</td>\n",
              "      <td>127</td>\n",
              "      <td>89</td>\n",
              "      <td>79</td>\n",
              "      <td>psychic</td>\n",
              "      <td>230.0</td>\n",
              "      <td>7</td>\n",
              "      <td>1</td>\n",
              "    </tr>\n",
              "    <tr>\n",
              "      <th>801</th>\n",
              "      <td>Magearna</td>\n",
              "      <td>95</td>\n",
              "      <td>115</td>\n",
              "      <td>1.0</td>\n",
              "      <td>80</td>\n",
              "      <td>NaN</td>\n",
              "      <td>130</td>\n",
              "      <td>115</td>\n",
              "      <td>65</td>\n",
              "      <td>steel</td>\n",
              "      <td>80.5</td>\n",
              "      <td>7</td>\n",
              "      <td>1</td>\n",
              "    </tr>\n",
              "  </tbody>\n",
              "</table>\n",
              "<p>801 rows × 13 columns</p>\n",
              "</div>\n",
              "      <button class=\"colab-df-convert\" onclick=\"convertToInteractive('df-bd3869db-569d-4d7c-9664-5d2dff832328')\"\n",
              "              title=\"Convert this dataframe to an interactive table.\"\n",
              "              style=\"display:none;\">\n",
              "        \n",
              "  <svg xmlns=\"http://www.w3.org/2000/svg\" height=\"24px\"viewBox=\"0 0 24 24\"\n",
              "       width=\"24px\">\n",
              "    <path d=\"M0 0h24v24H0V0z\" fill=\"none\"/>\n",
              "    <path d=\"M18.56 5.44l.94 2.06.94-2.06 2.06-.94-2.06-.94-.94-2.06-.94 2.06-2.06.94zm-11 1L8.5 8.5l.94-2.06 2.06-.94-2.06-.94L8.5 2.5l-.94 2.06-2.06.94zm10 10l.94 2.06.94-2.06 2.06-.94-2.06-.94-.94-2.06-.94 2.06-2.06.94z\"/><path d=\"M17.41 7.96l-1.37-1.37c-.4-.4-.92-.59-1.43-.59-.52 0-1.04.2-1.43.59L10.3 9.45l-7.72 7.72c-.78.78-.78 2.05 0 2.83L4 21.41c.39.39.9.59 1.41.59.51 0 1.02-.2 1.41-.59l7.78-7.78 2.81-2.81c.8-.78.8-2.07 0-2.86zM5.41 20L4 18.59l7.72-7.72 1.47 1.35L5.41 20z\"/>\n",
              "  </svg>\n",
              "      </button>\n",
              "      \n",
              "  <style>\n",
              "    .colab-df-container {\n",
              "      display:flex;\n",
              "      flex-wrap:wrap;\n",
              "      gap: 12px;\n",
              "    }\n",
              "\n",
              "    .colab-df-convert {\n",
              "      background-color: #E8F0FE;\n",
              "      border: none;\n",
              "      border-radius: 50%;\n",
              "      cursor: pointer;\n",
              "      display: none;\n",
              "      fill: #1967D2;\n",
              "      height: 32px;\n",
              "      padding: 0 0 0 0;\n",
              "      width: 32px;\n",
              "    }\n",
              "\n",
              "    .colab-df-convert:hover {\n",
              "      background-color: #E2EBFA;\n",
              "      box-shadow: 0px 1px 2px rgba(60, 64, 67, 0.3), 0px 1px 3px 1px rgba(60, 64, 67, 0.15);\n",
              "      fill: #174EA6;\n",
              "    }\n",
              "\n",
              "    [theme=dark] .colab-df-convert {\n",
              "      background-color: #3B4455;\n",
              "      fill: #D2E3FC;\n",
              "    }\n",
              "\n",
              "    [theme=dark] .colab-df-convert:hover {\n",
              "      background-color: #434B5C;\n",
              "      box-shadow: 0px 1px 3px 1px rgba(0, 0, 0, 0.15);\n",
              "      filter: drop-shadow(0px 1px 2px rgba(0, 0, 0, 0.3));\n",
              "      fill: #FFFFFF;\n",
              "    }\n",
              "  </style>\n",
              "\n",
              "      <script>\n",
              "        const buttonEl =\n",
              "          document.querySelector('#df-bd3869db-569d-4d7c-9664-5d2dff832328 button.colab-df-convert');\n",
              "        buttonEl.style.display =\n",
              "          google.colab.kernel.accessAllowed ? 'block' : 'none';\n",
              "\n",
              "        async function convertToInteractive(key) {\n",
              "          const element = document.querySelector('#df-bd3869db-569d-4d7c-9664-5d2dff832328');\n",
              "          const dataTable =\n",
              "            await google.colab.kernel.invokeFunction('convertToInteractive',\n",
              "                                                     [key], {});\n",
              "          if (!dataTable) return;\n",
              "\n",
              "          const docLinkHtml = 'Like what you see? Visit the ' +\n",
              "            '<a target=\"_blank\" href=https://colab.research.google.com/notebooks/data_table.ipynb>data table notebook</a>'\n",
              "            + ' to learn more about interactive tables.';\n",
              "          element.innerHTML = '';\n",
              "          dataTable['output_type'] = 'display_data';\n",
              "          await google.colab.output.renderOutput(dataTable, element);\n",
              "          const docLink = document.createElement('div');\n",
              "          docLink.innerHTML = docLinkHtml;\n",
              "          element.appendChild(docLink);\n",
              "        }\n",
              "      </script>\n",
              "    </div>\n",
              "  </div>\n",
              "  "
            ]
          },
          "metadata": {}
        }
      ],
      "source": [
        "# YOUR CODE HERE\n",
        "import pandas as pd\n",
        "import seaborn as sns\n",
        "import numpy as np\n",
        "import matplotlib.pyplot as plt\n",
        "from google.colab import files\n",
        "# !pip install dtreeviz\n",
        "uploaded = files.upload()\n",
        "Pokedex = pd.read_csv('pokedex.csv', sep=',', index_col=0)\n",
        "display(Pokedex)"
      ]
    },
    {
      "cell_type": "markdown",
      "metadata": {
        "dc": {
          "key": "12"
        },
        "deletable": false,
        "editable": false,
        "run_control": {
          "frozen": true
        },
        "tags": [
          "context"
        ],
        "id": "OEnfQ8pHNBht"
      },
      "source": [
        "## 2. How many Pokémon are legendary? (0.25 points)\n",
        "<p>After browsing the Pokédex, we can see several variables that could feasibly explain what makes a Pokémon legendary. We have a series of numerical fighter stats – <code>attack</code>, <code>defense</code>, <code>speed</code> and so on – as well as a categorization of Pokemon <code>type</code> (bug, dark, dragon, etc.). <code>is_legendary</code> is the binary classification variable we will eventually be predicting, tagged <code>1</code> if a Pokémon is legendary and <code>0</code> if it is not.</p>\n",
        "<p>Before we explore these variables in any depth, let's find out how many Pokémon are legendary out of the 801 total."
      ]
    },
    {
      "cell_type": "code",
      "execution_count": 3,
      "metadata": {
        "dc": {
          "key": "12"
        },
        "tags": [
          "sample_code"
        ],
        "vscode": {
          "languageId": "r"
        },
        "colab": {
          "base_uri": "https://localhost:8080/"
        },
        "id": "DJA09qLxNBhu",
        "outputId": "c1db99ed-9b15-45bd-d44b-5b207602d9c9"
      },
      "outputs": [
        {
          "output_type": "stream",
          "name": "stdout",
          "text": [
            "Number of legendary Pokèmon: 70 , Percentage of legendary Pokèmon: 8.74 %\n"
          ]
        }
      ],
      "source": [
        "# YOUR CODE HERE\n",
        "N_legendary = Pokedex['is_legendary'].sum()\n",
        "percentage = N_legendary/801\n",
        "\n",
        "print('Number of legendary Pokèmon:',N_legendary,', Percentage of legendary Pokèmon:', round(percentage*100,2),'%')"
      ]
    },
    {
      "cell_type": "markdown",
      "metadata": {
        "dc": {
          "key": "19"
        },
        "deletable": false,
        "editable": false,
        "run_control": {
          "frozen": true
        },
        "tags": [
          "context"
        ],
        "id": "qCLYTqyhNBhv"
      },
      "source": [
        "## 3. Legendary Pokémon by height and weight (0.5 points)\n",
        "<p>We now know that there are 70 legendary Pokémon – a sizable minority at 8,74% of the population! Let's start to explore some of their distinguishing characteristics.</p>\n",
        "<p>First of all, we'll plot the relationship between <code>height_m</code> and <code>weight_kg</code> for all 801 Pokémon, highlighting those that are classified as legendary. We'll also add conditional labels to the plot, which will only print a Pokémon's name if it is taller than 7.5m or heavier than 600kg.</p>"
      ]
    },
    {
      "cell_type": "code",
      "execution_count": 4,
      "metadata": {
        "dc": {
          "key": "19"
        },
        "tags": [
          "sample_code"
        ],
        "vscode": {
          "languageId": "r"
        },
        "colab": {
          "base_uri": "https://localhost:8080/",
          "height": 388
        },
        "id": "32-UTs-fNBhw",
        "outputId": "0ab64707-7e9d-44e4-fac6-16d9180ceab4"
      },
      "outputs": [
        {
          "output_type": "display_data",
          "data": {
            "text/plain": [
              "<Figure size 720x432 with 1 Axes>"
            ],
            "image/png": "[encoded data removed]"
          },
          "metadata": {
            "needs_background": "light"
          }
        }
      ],
      "source": [
        "# YOUR CODE HERE\n",
        "plt.figure(figsize=(10,6))\n",
        "plt.scatter(Pokedex['height_m'][Pokedex['is_legendary']==0],Pokedex['weight_kg'][Pokedex['is_legendary']==0],label='No legendary')\n",
        "plt.scatter(Pokedex['height_m'][Pokedex['is_legendary']==1],Pokedex['weight_kg'][Pokedex['is_legendary']==1],marker='*',color='red', label='Is legendary')\n",
        "plt.xlabel('Height')\n",
        "plt.ylabel('Weight')\n",
        "plt.legend()\n",
        "\n",
        "#Adding names\n",
        "ind1 = Pokedex['height_m']>7.5 \n",
        "ind2 = Pokedex['weight_kg']>600\n",
        "x=Pokedex['height_m'][ind1]\n",
        "y=Pokedex['weight_kg'][ind1]\n",
        "l=Pokedex['name'][ind1]\n",
        "\n",
        "for i,label in enumerate(l):\n",
        "    plt.annotate(label, (x.values[i]+[0.1], y.values[i]))\n",
        "    \n",
        "x1=Pokedex['height_m'][ind2]\n",
        "y1=Pokedex['weight_kg'][ind2]  \n",
        "l1=Pokedex['name'][ind2]\n",
        "for i,label in enumerate(l1):\n",
        "    plt.annotate(label, (x1.values[i]+[0.1], y1.values[i]))"
      ]
    },
    {
      "cell_type": "markdown",
      "metadata": {
        "dc": {
          "key": "26"
        },
        "deletable": false,
        "editable": false,
        "run_control": {
          "frozen": true
        },
        "tags": [
          "context"
        ],
        "id": "ZAkPrdm6NBhy"
      },
      "source": [
        "## 4. Legendary Pokémon by type (0.5 points)\n",
        "<p>It seems that legendary Pokémon are generally large and heavy, but with many exceptions. For example, Onix (Gen 1), Steelix (Gen 2) and Wailord (Gen 3) are all extremely large, but none of them have legendary status. There must be other factors at play.</p>\n",
        "<p>We will now look at the effect of a Pokémon's <code>type</code> on its legendary/non-legendary classification. There are 18 possible types, ranging from the common (Grass / Normal / Water) to the rare (Fairy / Flying / Ice). We will calculate the proportion of legendary Pokémon within each category, and then plot these proportions using a simple bar chart.</p>"
      ]
    },
    {
      "cell_type": "code",
      "execution_count": 5,
      "metadata": {
        "dc": {
          "key": "26"
        },
        "tags": [],
        "vscode": {
          "languageId": "r"
        },
        "colab": {
          "base_uri": "https://localhost:8080/",
          "height": 744
        },
        "id": "yhDuryLFNBhy",
        "outputId": "d710314e-534f-4d3d-bf37-364d66d457bd"
      },
      "outputs": [
        {
          "output_type": "stream",
          "name": "stdout",
          "text": [
            "Number of Pokèmon types: 18\n"
          ]
        },
        {
          "output_type": "display_data",
          "data": {
            "text/plain": [
              "'Proportion of Legendaries of each type'"
            ],
            "application/vnd.google.colaboratory.intrinsic+json": {
              "type": "string"
            }
          },
          "metadata": {}
        },
        {
          "output_type": "display_data",
          "data": {
            "text/plain": [
              "[('grass', 0.05128205128205128),\n",
              " ('fire', 0.09615384615384616),\n",
              " ('water', 0.05263157894736842),\n",
              " ('bug', 0.041666666666666664),\n",
              " ('normal', 0.02857142857142857),\n",
              " ('poison', 0.0),\n",
              " ('electric', 0.1282051282051282),\n",
              " ('ground', 0.0625),\n",
              " ('fairy', 0.05555555555555555),\n",
              " ('fighting', 0.0),\n",
              " ('psychic', 0.32075471698113206),\n",
              " ('rock', 0.08888888888888889),\n",
              " ('ghost', 0.037037037037037035),\n",
              " ('ice', 0.08695652173913043),\n",
              " ('dragon', 0.25925925925925924),\n",
              " ('dark', 0.10344827586206896),\n",
              " ('steel', 0.25),\n",
              " ('flying', 0.3333333333333333)]"
            ]
          },
          "metadata": {}
        },
        {
          "output_type": "execute_result",
          "data": {
            "text/plain": [
              "<BarContainer object of 18 artists>"
            ]
          },
          "metadata": {},
          "execution_count": 5
        },
        {
          "output_type": "display_data",
          "data": {
            "text/plain": [
              "<Figure size 1152x432 with 1 Axes>"
            ],
            "image/png": "[encoded data removed]"
          },
          "metadata": {
            "needs_background": "light"
          }
        }
      ],
      "source": [
        "# YOUR CODE HERE\n",
        "#Calculating the proportion of legendary Pokemon\n",
        "print('Number of Pokèmon types:',len(Pokedex['type'].unique()))\n",
        "Pokedex['type'].value_counts()\n",
        "\n",
        "\n",
        "Percentage_list=[]\n",
        "for i in Pokedex['type'].unique():\n",
        "    ind = Pokedex['type']==i\n",
        "    l1 = len(Pokedex[ind])\n",
        "    l2 = len(Pokedex[ind & Pokedex['is_legendary']==1])\n",
        "    Percentage_list.append((i,l2/l1))\n",
        "    \n",
        "display('Proportion of Legendaries of each type',Percentage_list)\n",
        "\n",
        "#Plot\n",
        "x=[]\n",
        "y=[]\n",
        "for i in Percentage_list:\n",
        "    x.append(i[0])\n",
        "    y.append(i[1])\n",
        "plt.figure(figsize=(16,6))\n",
        "plt.bar(x,y, align='center',width=0.9, color='orange',alpha=0.8)"
      ]
    },
    {
      "cell_type": "markdown",
      "metadata": {
        "dc": {
          "key": "33"
        },
        "deletable": false,
        "editable": false,
        "run_control": {
          "frozen": true
        },
        "tags": [
          "context"
        ],
        "id": "NsQQThydNBhz"
      },
      "source": [
        "## 5. Legendary Pokémon by fighter stats (0.5 points)\n",
        "<p>There are clear differences between Pokémon types in their relation to legendary status. While more than 30% of flying and psychic Pokémon are legendary, there is no such thing as a legendary poison or fighting Pokémon!</p>\n",
        "<p>Before fitting the model, we will consider the influence of a Pokémon's fighter stats (<code>attack</code>, <code>defense</code>, etc.) on its status. Rather than considering each stat in isolation, we will produce a boxplot for all of them simultaneously using the <code>facet_wrap()</code> function.</p>"
      ]
    },
    {
      "cell_type": "code",
      "execution_count": null,
      "metadata": {
        "dc": {
          "key": "33"
        },
        "tags": [
          "sample_code"
        ],
        "vscode": {
          "languageId": "r"
        },
        "colab": {
          "base_uri": "https://localhost:8080/",
          "height": 444
        },
        "id": "l4PzLa12NBh0",
        "outputId": "df327e3a-7084-408b-8069-71df7f6fb5b6"
      },
      "outputs": [
        {
          "output_type": "display_data",
          "data": {
            "text/plain": [
              "<Figure size 1440x504 with 6 Axes>"
            ],
            "image/png": "[encoded data removed]"
          },
          "metadata": {
            "needs_background": "light"
          }
        }
      ],
      "source": [
        "# YOUR CODE HERE\n",
        "\n",
        "#Separated Boxplots\n",
        "\n",
        "# legend=Pokedex['is_legendary']==1\n",
        "# no_legend=Pokedex['is_legendary']==0\n",
        "# #Stats no legendary\n",
        "# a,d,sp_a,sp_d,s,hp=Pokedex['attack'][no_legend],Pokedex['defense'][no_legend],Pokedex['sp_attack'][no_legend],Pokedex['sp_defense'][no_legend],Pokedex['speed'][no_legend],Pokedex['hp'][no_legend]\n",
        "\n",
        "# #Stats legendary\n",
        "# a_l,d_l,sp_a_l,sp_d_l,s_l,hp_l=Pokedex['attack'][legend],Pokedex['defense'][legend],Pokedex['sp_attack'][legend],Pokedex['sp_defense'][legend],Pokedex['speed'][legend],Pokedex['hp'][legend]\n",
        "\n",
        "# attack = np.array([a,a_l],dtype='object')\n",
        "# defense = np.array([d,d_l],dtype='object')\n",
        "# sp_attack = np.array([sp_a,sp_a_l],dtype='object')\n",
        "# sp_defense = np.array([sp_d,sp_d_l],dtype='object')\n",
        "# speed = np.array([s,s_l],dtype='object')\n",
        "# hp = np.array([hp,hp_l],dtype='object')\n",
        "\n",
        "\n",
        "# ticks=['No legendary', 'Legendary']\n",
        "\n",
        "# plt.figure(figsize=(20,7))\n",
        "\n",
        "# plt.subplot(1,6,1)\n",
        "# plt.boxplot(attack)\n",
        "# plt.xticks((1,2),ticks)\n",
        "# plt.title(\"Attack\")\n",
        "\n",
        "# plt.subplot(1,6,2)\n",
        "# plt.boxplot(defense)\n",
        "# plt.xticks((1,2),ticks)\n",
        "# plt.title(\"Defense\")\n",
        "\n",
        "# plt.subplot(1,6,3)\n",
        "# plt.boxplot(sp_attack)\n",
        "# plt.xticks((1,2),ticks)\n",
        "# plt.title(\"Sp_Attack\")\n",
        "\n",
        "# plt.subplot(1,6,4)\n",
        "# plt.boxplot(sp_defense)\n",
        "# plt.xticks((1,2),ticks)\n",
        "# plt.title(\"Sp_Defense\")\n",
        "\n",
        "# plt.subplot(1,6,5)\n",
        "# plt.boxplot(speed)\n",
        "# plt.xticks((1,2),ticks)\n",
        "# plt.title(\"Speed\")\n",
        "\n",
        "# plt.subplot(1,6,6)\n",
        "# plt.boxplot(hp)\n",
        "# plt.xticks((1,2),ticks)\n",
        "# plt.title(\"Hp\")\n",
        "\n",
        "#plt.show()"
      ]
    },
    {
      "cell_type": "code",
      "source": [
        "from posixpath import islink\n",
        "data_fight = Pokedex[['attack','defense', 'speed','sp_attack', 'sp_defense', 'hp']]\n",
        "\n",
        "#Managing the data\n",
        "isl = list(Pokedex['is_legendary'])*6\n",
        "isl = pd.Series(isl)\n",
        "df_melted = data_fight.reset_index().melt(id_vars ='pokedex_number', var_name='Stats', value_name='Value')\n",
        "df_melted['is_legendary'] = isl\n",
        "\n",
        "\n",
        "#Plot\n",
        "plt.figure(figsize=(18,10))\n",
        "ax = sns.boxplot(data=df_melted, x='Stats', y='Value',hue='is_legendary')\n",
        "handles, _=ax.get_legend_handles_labels()\n",
        "ax.legend(handles,['Non Legendary','Legendary'])\n",
        "plt.show()"
      ],
      "metadata": {
        "colab": {
          "base_uri": "https://localhost:8080/",
          "height": 606
        },
        "id": "mkimSjxQyqFj",
        "outputId": "92fde904-d76d-46f2-c683-b6834458b1af"
      },
      "execution_count": 14,
      "outputs": [
        {
          "output_type": "display_data",
          "data": {
            "text/plain": [
              "<Figure size 1296x720 with 1 Axes>"
            ],
            "image/png": "[encoded data removed]"
          },
          "metadata": {
            "needs_background": "light"
          }
        }
      ]
    },
    {
      "cell_type": "markdown",
      "metadata": {
        "dc": {
          "key": "40"
        },
        "deletable": false,
        "editable": false,
        "run_control": {
          "frozen": true
        },
        "tags": [
          "context"
        ],
        "id": "IScDgixYNBh1"
      },
      "source": [
        "## 6. Create a training/test split\n",
        "<p>As we might expect, legendary Pokémon outshine their ordinary counterparts in all fighter stats. Although we haven't formally tested a difference in means, the boxplots suggest a significant difference with respect to all six variables. Nonetheless, there are a number of outliers in each case, meaning that some legendary Pokémon are anomalously weak.</p>\n",
        "<p>We have now explored all of the predictor variables we will use to explain what makes a Pokémon legendary. Before fitting our model, we will split the <code>pokedex</code> into a training set (<code>pokedex_train</code>) and a test set (<code>pokedex_test</code>). Follow a 80%-20% split. This will allow us to test the model on unseen data.</p>"
      ]
    },
    {
      "cell_type": "code",
      "source": [
        "Pokedex.columns"
      ],
      "metadata": {
        "colab": {
          "base_uri": "https://localhost:8080/"
        },
        "id": "Ajj0u-5ISvyi",
        "outputId": "f8ebdf05-019d-4d0d-85f0-3cdac897db2a"
      },
      "execution_count": 15,
      "outputs": [
        {
          "output_type": "execute_result",
          "data": {
            "text/plain": [
              "Index(['name', 'attack', 'defense', 'height_m', 'hp', 'percentage_male',\n",
              "       'sp_attack', 'sp_defense', 'speed', 'type', 'weight_kg', 'generation',\n",
              "       'is_legendary'],\n",
              "      dtype='object')"
            ]
          },
          "metadata": {},
          "execution_count": 15
        }
      ]
    },
    {
      "cell_type": "code",
      "source": [
        "#Preparing data\n",
        "\n",
        "from sklearn.preprocessing import OneHotEncoder\n",
        "y = Pokedex['is_legendary']\n",
        "x = Pokedex.drop(columns = ['name','is_legendary','percentage_male','generation'])\n",
        "\n",
        "#Transform 'type' data in numbers\n",
        "\n",
        "encoder = OneHotEncoder()\n",
        "\n",
        "columns = encoder.fit_transform(x[['type']]).toarray()\n",
        "types_names = encoder.categories_[0]\n",
        "x[types_names] = columns\n",
        "x.drop(['type'],inplace = True,axis=1)\n",
        "\n",
        "\n",
        "#Change Nan values\n",
        "median = x[\"weight_kg\"].median()\n",
        "x[\"weight_kg\"].fillna(median, inplace=True)\n",
        "median1 = x[\"height_m\"].median()\n",
        "x[\"height_m\"].fillna(median1, inplace=True)\n",
        "\n",
        "display(x)"
      ],
      "metadata": {
        "id": "OJXKYxtVfEY5",
        "colab": {
          "base_uri": "https://localhost:8080/",
          "height": 519
        },
        "outputId": "80339bef-5270-4010-e7f5-90659cec6bcb"
      },
      "execution_count": 16,
      "outputs": [
        {
          "output_type": "display_data",
          "data": {
            "text/plain": [
              "                attack  defense  height_m   hp  sp_attack  sp_defense  speed  \\\n",
              "pokedex_number                                                                 \n",
              "1                   49       49       0.7   45         65          65     45   \n",
              "2                   62       63       1.0   60         80          80     60   \n",
              "3                  100      123       2.0   80        122         120     80   \n",
              "4                   52       43       0.6   39         60          50     65   \n",
              "5                   64       58       1.1   58         80          65     80   \n",
              "...                ...      ...       ...  ...        ...         ...    ...   \n",
              "797                101      103       9.2   97        107         101     61   \n",
              "798                181      131       0.3   59         59          31    109   \n",
              "799                101       53       5.5  223         97          53     43   \n",
              "800                107      101       2.4   97        127          89     79   \n",
              "801                 95      115       1.0   80        130         115     65   \n",
              "\n",
              "                weight_kg  bug  dark  ...  ghost  grass  ground  ice  normal  \\\n",
              "pokedex_number                        ...                                      \n",
              "1                     6.9  0.0   0.0  ...    0.0    1.0     0.0  0.0     0.0   \n",
              "2                    13.0  0.0   0.0  ...    0.0    1.0     0.0  0.0     0.0   \n",
              "3                   100.0  0.0   0.0  ...    0.0    1.0     0.0  0.0     0.0   \n",
              "4                     8.5  0.0   0.0  ...    0.0    0.0     0.0  0.0     0.0   \n",
              "5                    19.0  0.0   0.0  ...    0.0    0.0     0.0  0.0     0.0   \n",
              "...                   ...  ...   ...  ...    ...    ...     ...  ...     ...   \n",
              "797                 999.9  0.0   0.0  ...    0.0    0.0     0.0  0.0     0.0   \n",
              "798                   0.1  0.0   0.0  ...    0.0    1.0     0.0  0.0     0.0   \n",
              "799                 888.0  0.0   1.0  ...    0.0    0.0     0.0  0.0     0.0   \n",
              "800                 230.0  0.0   0.0  ...    0.0    0.0     0.0  0.0     0.0   \n",
              "801                  80.5  0.0   0.0  ...    0.0    0.0     0.0  0.0     0.0   \n",
              "\n",
              "                poison  psychic  rock  steel  water  \n",
              "pokedex_number                                       \n",
              "1                  0.0      0.0   0.0    0.0    0.0  \n",
              "2                  0.0      0.0   0.0    0.0    0.0  \n",
              "3                  0.0      0.0   0.0    0.0    0.0  \n",
              "4                  0.0      0.0   0.0    0.0    0.0  \n",
              "5                  0.0      0.0   0.0    0.0    0.0  \n",
              "...                ...      ...   ...    ...    ...  \n",
              "797                0.0      0.0   0.0    1.0    0.0  \n",
              "798                0.0      0.0   0.0    0.0    0.0  \n",
              "799                0.0      0.0   0.0    0.0    0.0  \n",
              "800                0.0      1.0   0.0    0.0    0.0  \n",
              "801                0.0      0.0   0.0    1.0    0.0  \n",
              "\n",
              "[801 rows x 26 columns]"
            ],
            "text/html": [
              "\n",
              "  <div id=\"df-2a0b0155-47e1-42d3-b6f3-c9e653b82f0f\">\n",
              "    <div class=\"colab-df-container\">\n",
              "      <div>\n",
              "<style scoped>\n",
              "    .dataframe tbody tr th:only-of-type {\n",
              "        vertical-align: middle;\n",
              "    }\n",
              "\n",
              "    .dataframe tbody tr th {\n",
              "        vertical-align: top;\n",
              "    }\n",
              "\n",
              "    .dataframe thead th {\n",
              "        text-align: right;\n",
              "    }\n",
              "</style>\n",
              "<table border=\"1\" class=\"dataframe\">\n",
              "  <thead>\n",
              "    <tr style=\"text-align: right;\">\n",
              "      <th></th>\n",
              "      <th>attack</th>\n",
              "      <th>defense</th>\n",
              "      <th>height_m</th>\n",
              "      <th>hp</th>\n",
              "      <th>sp_attack</th>\n",
              "      <th>sp_defense</th>\n",
              "      <th>speed</th>\n",
              "      <th>weight_kg</th>\n",
              "      <th>bug</th>\n",
              "      <th>dark</th>\n",
              "      <th>...</th>\n",
              "      <th>ghost</th>\n",
              "      <th>grass</th>\n",
              "      <th>ground</th>\n",
              "      <th>ice</th>\n",
              "      <th>normal</th>\n",
              "      <th>poison</th>\n",
              "      <th>psychic</th>\n",
              "      <th>rock</th>\n",
              "      <th>steel</th>\n",
              "      <th>water</th>\n",
              "    </tr>\n",
              "    <tr>\n",
              "      <th>pokedex_number</th>\n",
              "      <th></th>\n",
              "      <th></th>\n",
              "      <th></th>\n",
              "      <th></th>\n",
              "      <th></th>\n",
              "      <th></th>\n",
              "      <th></th>\n",
              "      <th></th>\n",
              "      <th></th>\n",
              "      <th></th>\n",
              "      <th></th>\n",
              "      <th></th>\n",
              "      <th></th>\n",
              "      <th></th>\n",
              "      <th></th>\n",
              "      <th></th>\n",
              "      <th></th>\n",
              "      <th></th>\n",
              "      <th></th>\n",
              "      <th></th>\n",
              "      <th></th>\n",
              "    </tr>\n",
              "  </thead>\n",
              "  <tbody>\n",
              "    <tr>\n",
              "      <th>1</th>\n",
              "      <td>49</td>\n",
              "      <td>49</td>\n",
              "      <td>0.7</td>\n",
              "      <td>45</td>\n",
              "      <td>65</td>\n",
              "      <td>65</td>\n",
              "      <td>45</td>\n",
              "      <td>6.9</td>\n",
              "      <td>0.0</td>\n",
              "      <td>0.0</td>\n",
              "      <td>...</td>\n",
              "      <td>0.0</td>\n",
              "      <td>1.0</td>\n",
              "      <td>0.0</td>\n",
              "      <td>0.0</td>\n",
              "      <td>0.0</td>\n",
              "      <td>0.0</td>\n",
              "      <td>0.0</td>\n",
              "      <td>0.0</td>\n",
              "      <td>0.0</td>\n",
              "      <td>0.0</td>\n",
              "    </tr>\n",
              "    <tr>\n",
              "      <th>2</th>\n",
              "      <td>62</td>\n",
              "      <td>63</td>\n",
              "      <td>1.0</td>\n",
              "      <td>60</td>\n",
              "      <td>80</td>\n",
              "      <td>80</td>\n",
              "      <td>60</td>\n",
              "      <td>13.0</td>\n",
              "      <td>0.0</td>\n",
              "      <td>0.0</td>\n",
              "      <td>...</td>\n",
              "      <td>0.0</td>\n",
              "      <td>1.0</td>\n",
              "      <td>0.0</td>\n",
              "      <td>0.0</td>\n",
              "      <td>0.0</td>\n",
              "      <td>0.0</td>\n",
              "      <td>0.0</td>\n",
              "      <td>0.0</td>\n",
              "      <td>0.0</td>\n",
              "      <td>0.0</td>\n",
              "    </tr>\n",
              "    <tr>\n",
              "      <th>3</th>\n",
              "      <td>100</td>\n",
              "      <td>123</td>\n",
              "      <td>2.0</td>\n",
              "      <td>80</td>\n",
              "      <td>122</td>\n",
              "      <td>120</td>\n",
              "      <td>80</td>\n",
              "      <td>100.0</td>\n",
              "      <td>0.0</td>\n",
              "      <td>0.0</td>\n",
              "      <td>...</td>\n",
              "      <td>0.0</td>\n",
              "      <td>1.0</td>\n",
              "      <td>0.0</td>\n",
              "      <td>0.0</td>\n",
              "      <td>0.0</td>\n",
              "      <td>0.0</td>\n",
              "      <td>0.0</td>\n",
              "      <td>0.0</td>\n",
              "      <td>0.0</td>\n",
              "      <td>0.0</td>\n",
              "    </tr>\n",
              "    <tr>\n",
              "      <th>4</th>\n",
              "      <td>52</td>\n",
              "      <td>43</td>\n",
              "      <td>0.6</td>\n",
              "      <td>39</td>\n",
              "      <td>60</td>\n",
              "      <td>50</td>\n",
              "      <td>65</td>\n",
              "      <td>8.5</td>\n",
              "      <td>0.0</td>\n",
              "      <td>0.0</td>\n",
              "      <td>...</td>\n",
              "      <td>0.0</td>\n",
              "      <td>0.0</td>\n",
              "      <td>0.0</td>\n",
              "      <td>0.0</td>\n",
              "      <td>0.0</td>\n",
              "      <td>0.0</td>\n",
              "      <td>0.0</td>\n",
              "      <td>0.0</td>\n",
              "      <td>0.0</td>\n",
              "      <td>0.0</td>\n",
              "    </tr>\n",
              "    <tr>\n",
              "      <th>5</th>\n",
              "      <td>64</td>\n",
              "      <td>58</td>\n",
              "      <td>1.1</td>\n",
              "      <td>58</td>\n",
              "      <td>80</td>\n",
              "      <td>65</td>\n",
              "      <td>80</td>\n",
              "      <td>19.0</td>\n",
              "      <td>0.0</td>\n",
              "      <td>0.0</td>\n",
              "      <td>...</td>\n",
              "      <td>0.0</td>\n",
              "      <td>0.0</td>\n",
              "      <td>0.0</td>\n",
              "      <td>0.0</td>\n",
              "      <td>0.0</td>\n",
              "      <td>0.0</td>\n",
              "      <td>0.0</td>\n",
              "      <td>0.0</td>\n",
              "      <td>0.0</td>\n",
              "      <td>0.0</td>\n",
              "    </tr>\n",
              "    <tr>\n",
              "      <th>...</th>\n",
              "      <td>...</td>\n",
              "      <td>...</td>\n",
              "      <td>...</td>\n",
              "      <td>...</td>\n",
              "      <td>...</td>\n",
              "      <td>...</td>\n",
              "      <td>...</td>\n",
              "      <td>...</td>\n",
              "      <td>...</td>\n",
              "      <td>...</td>\n",
              "      <td>...</td>\n",
              "      <td>...</td>\n",
              "      <td>...</td>\n",
              "      <td>...</td>\n",
              "      <td>...</td>\n",
              "      <td>...</td>\n",
              "      <td>...</td>\n",
              "      <td>...</td>\n",
              "      <td>...</td>\n",
              "      <td>...</td>\n",
              "      <td>...</td>\n",
              "    </tr>\n",
              "    <tr>\n",
              "      <th>797</th>\n",
              "      <td>101</td>\n",
              "      <td>103</td>\n",
              "      <td>9.2</td>\n",
              "      <td>97</td>\n",
              "      <td>107</td>\n",
              "      <td>101</td>\n",
              "      <td>61</td>\n",
              "      <td>999.9</td>\n",
              "      <td>0.0</td>\n",
              "      <td>0.0</td>\n",
              "      <td>...</td>\n",
              "      <td>0.0</td>\n",
              "      <td>0.0</td>\n",
              "      <td>0.0</td>\n",
              "      <td>0.0</td>\n",
              "      <td>0.0</td>\n",
              "      <td>0.0</td>\n",
              "      <td>0.0</td>\n",
              "      <td>0.0</td>\n",
              "      <td>1.0</td>\n",
              "      <td>0.0</td>\n",
              "    </tr>\n",
              "    <tr>\n",
              "      <th>798</th>\n",
              "      <td>181</td>\n",
              "      <td>131</td>\n",
              "      <td>0.3</td>\n",
              "      <td>59</td>\n",
              "      <td>59</td>\n",
              "      <td>31</td>\n",
              "      <td>109</td>\n",
              "      <td>0.1</td>\n",
              "      <td>0.0</td>\n",
              "      <td>0.0</td>\n",
              "      <td>...</td>\n",
              "      <td>0.0</td>\n",
              "      <td>1.0</td>\n",
              "      <td>0.0</td>\n",
              "      <td>0.0</td>\n",
              "      <td>0.0</td>\n",
              "      <td>0.0</td>\n",
              "      <td>0.0</td>\n",
              "      <td>0.0</td>\n",
              "      <td>0.0</td>\n",
              "      <td>0.0</td>\n",
              "    </tr>\n",
              "    <tr>\n",
              "      <th>799</th>\n",
              "      <td>101</td>\n",
              "      <td>53</td>\n",
              "      <td>5.5</td>\n",
              "      <td>223</td>\n",
              "      <td>97</td>\n",
              "      <td>53</td>\n",
              "      <td>43</td>\n",
              "      <td>888.0</td>\n",
              "      <td>0.0</td>\n",
              "      <td>1.0</td>\n",
              "      <td>...</td>\n",
              "      <td>0.0</td>\n",
              "      <td>0.0</td>\n",
              "      <td>0.0</td>\n",
              "      <td>0.0</td>\n",
              "      <td>0.0</td>\n",
              "      <td>0.0</td>\n",
              "      <td>0.0</td>\n",
              "      <td>0.0</td>\n",
              "      <td>0.0</td>\n",
              "      <td>0.0</td>\n",
              "    </tr>\n",
              "    <tr>\n",
              "      <th>800</th>\n",
              "      <td>107</td>\n",
              "      <td>101</td>\n",
              "      <td>2.4</td>\n",
              "      <td>97</td>\n",
              "      <td>127</td>\n",
              "      <td>89</td>\n",
              "      <td>79</td>\n",
              "      <td>230.0</td>\n",
              "      <td>0.0</td>\n",
              "      <td>0.0</td>\n",
              "      <td>...</td>\n",
              "      <td>0.0</td>\n",
              "      <td>0.0</td>\n",
              "      <td>0.0</td>\n",
              "      <td>0.0</td>\n",
              "      <td>0.0</td>\n",
              "      <td>0.0</td>\n",
              "      <td>1.0</td>\n",
              "      <td>0.0</td>\n",
              "      <td>0.0</td>\n",
              "      <td>0.0</td>\n",
              "    </tr>\n",
              "    <tr>\n",
              "      <th>801</th>\n",
              "      <td>95</td>\n",
              "      <td>115</td>\n",
              "      <td>1.0</td>\n",
              "      <td>80</td>\n",
              "      <td>130</td>\n",
              "      <td>115</td>\n",
              "      <td>65</td>\n",
              "      <td>80.5</td>\n",
              "      <td>0.0</td>\n",
              "      <td>0.0</td>\n",
              "      <td>...</td>\n",
              "      <td>0.0</td>\n",
              "      <td>0.0</td>\n",
              "      <td>0.0</td>\n",
              "      <td>0.0</td>\n",
              "      <td>0.0</td>\n",
              "      <td>0.0</td>\n",
              "      <td>0.0</td>\n",
              "      <td>0.0</td>\n",
              "      <td>1.0</td>\n",
              "      <td>0.0</td>\n",
              "    </tr>\n",
              "  </tbody>\n",
              "</table>\n",
              "<p>801 rows × 26 columns</p>\n",
              "</div>\n",
              "      <button class=\"colab-df-convert\" onclick=\"convertToInteractive('df-2a0b0155-47e1-42d3-b6f3-c9e653b82f0f')\"\n",
              "              title=\"Convert this dataframe to an interactive table.\"\n",
              "              style=\"display:none;\">\n",
              "        \n",
              "  <svg xmlns=\"http://www.w3.org/2000/svg\" height=\"24px\"viewBox=\"0 0 24 24\"\n",
              "       width=\"24px\">\n",
              "    <path d=\"M0 0h24v24H0V0z\" fill=\"none\"/>\n",
              "    <path d=\"M18.56 5.44l.94 2.06.94-2.06 2.06-.94-2.06-.94-.94-2.06-.94 2.06-2.06.94zm-11 1L8.5 8.5l.94-2.06 2.06-.94-2.06-.94L8.5 2.5l-.94 2.06-2.06.94zm10 10l.94 2.06.94-2.06 2.06-.94-2.06-.94-.94-2.06-.94 2.06-2.06.94z\"/><path d=\"M17.41 7.96l-1.37-1.37c-.4-.4-.92-.59-1.43-.59-.52 0-1.04.2-1.43.59L10.3 9.45l-7.72 7.72c-.78.78-.78 2.05 0 2.83L4 21.41c.39.39.9.59 1.41.59.51 0 1.02-.2 1.41-.59l7.78-7.78 2.81-2.81c.8-.78.8-2.07 0-2.86zM5.41 20L4 18.59l7.72-7.72 1.47 1.35L5.41 20z\"/>\n",
              "  </svg>\n",
              "      </button>\n",
              "      \n",
              "  <style>\n",
              "    .colab-df-container {\n",
              "      display:flex;\n",
              "      flex-wrap:wrap;\n",
              "      gap: 12px;\n",
              "    }\n",
              "\n",
              "    .colab-df-convert {\n",
              "      background-color: #E8F0FE;\n",
              "      border: none;\n",
              "      border-radius: 50%;\n",
              "      cursor: pointer;\n",
              "      display: none;\n",
              "      fill: #1967D2;\n",
              "      height: 32px;\n",
              "      padding: 0 0 0 0;\n",
              "      width: 32px;\n",
              "    }\n",
              "\n",
              "    .colab-df-convert:hover {\n",
              "      background-color: #E2EBFA;\n",
              "      box-shadow: 0px 1px 2px rgba(60, 64, 67, 0.3), 0px 1px 3px 1px rgba(60, 64, 67, 0.15);\n",
              "      fill: #174EA6;\n",
              "    }\n",
              "\n",
              "    [theme=dark] .colab-df-convert {\n",
              "      background-color: #3B4455;\n",
              "      fill: #D2E3FC;\n",
              "    }\n",
              "\n",
              "    [theme=dark] .colab-df-convert:hover {\n",
              "      background-color: #434B5C;\n",
              "      box-shadow: 0px 1px 3px 1px rgba(0, 0, 0, 0.15);\n",
              "      filter: drop-shadow(0px 1px 2px rgba(0, 0, 0, 0.3));\n",
              "      fill: #FFFFFF;\n",
              "    }\n",
              "  </style>\n",
              "\n",
              "      <script>\n",
              "        const buttonEl =\n",
              "          document.querySelector('#df-2a0b0155-47e1-42d3-b6f3-c9e653b82f0f button.colab-df-convert');\n",
              "        buttonEl.style.display =\n",
              "          google.colab.kernel.accessAllowed ? 'block' : 'none';\n",
              "\n",
              "        async function convertToInteractive(key) {\n",
              "          const element = document.querySelector('#df-2a0b0155-47e1-42d3-b6f3-c9e653b82f0f');\n",
              "          const dataTable =\n",
              "            await google.colab.kernel.invokeFunction('convertToInteractive',\n",
              "                                                     [key], {});\n",
              "          if (!dataTable) return;\n",
              "\n",
              "          const docLinkHtml = 'Like what you see? Visit the ' +\n",
              "            '<a target=\"_blank\" href=https://colab.research.google.com/notebooks/data_table.ipynb>data table notebook</a>'\n",
              "            + ' to learn more about interactive tables.';\n",
              "          element.innerHTML = '';\n",
              "          dataTable['output_type'] = 'display_data';\n",
              "          await google.colab.output.renderOutput(dataTable, element);\n",
              "          const docLink = document.createElement('div');\n",
              "          docLink.innerHTML = docLinkHtml;\n",
              "          element.appendChild(docLink);\n",
              "        }\n",
              "      </script>\n",
              "    </div>\n",
              "  </div>\n",
              "  "
            ]
          },
          "metadata": {}
        }
      ]
    },
    {
      "cell_type": "code",
      "execution_count": 17,
      "metadata": {
        "dc": {
          "key": "40"
        },
        "tags": [
          "sample_code"
        ],
        "vscode": {
          "languageId": "r"
        },
        "id": "kSxa1cbdNBh1"
      },
      "outputs": [],
      "source": [
        "# YOUR CODE HERE\n",
        "from sklearn.model_selection import train_test_split\n",
        "\n",
        "x_train, x_test, y_train, y_test = train_test_split(x,y, test_size=0.2, random_state=42)"
      ]
    },
    {
      "cell_type": "markdown",
      "metadata": {
        "dc": {
          "key": "47"
        },
        "deletable": false,
        "editable": false,
        "run_control": {
          "frozen": true
        },
        "tags": [
          "context"
        ],
        "id": "2GkNU1-QNBh2"
      },
      "source": [
        "## 7. Fit a decision tree (1 point)\n",
        "<p>Now we have our training and test sets, we can go about building our classifier. But before we fit a random forest, we will fit a simple <strong>classification decision tree</strong>. This will give us a baseline fit against which to compare the results of the random forest, as well as an informative graphical representation of the model.</p>\n",
        "\n",
        "I warn you that you will find a technical problem if you just estimate your tree using the data as-is... What might be going on?\n",
        "\n",
        "Remember to plot your tree!"
      ]
    },
    {
      "cell_type": "code",
      "execution_count": 18,
      "metadata": {
        "dc": {
          "key": "47"
        },
        "tags": [
          "sample_code"
        ],
        "vscode": {
          "languageId": "r"
        },
        "colab": {
          "base_uri": "https://localhost:8080/"
        },
        "id": "lwC2mqpHNBh3",
        "outputId": "bc40b720-4cf8-4079-831e-b8dceba7c07f"
      },
      "outputs": [
        {
          "output_type": "execute_result",
          "data": {
            "text/plain": [
              "DecisionTreeClassifier(max_depth=4, random_state=1812)"
            ]
          },
          "metadata": {},
          "execution_count": 18
        }
      ],
      "source": [
        "# YOUR CODE HERE\n",
        "#Decision tree\n",
        "from sklearn.tree import DecisionTreeClassifier\n",
        "\n",
        "tree_clf = DecisionTreeClassifier(random_state=1812,max_depth=4)\n",
        "tree_clf.fit(x_train, y_train)"
      ]
    },
    {
      "cell_type": "code",
      "execution_count": 19,
      "metadata": {
        "colab": {
          "base_uri": "https://localhost:8080/",
          "height": 777
        },
        "id": "eIIZ_JM6NBh5",
        "outputId": "375e79df-1adb-47b3-f0ce-10e72ffe2023"
      },
      "outputs": [
        {
          "output_type": "execute_result",
          "data": {
            "text/plain": [
              "<graphviz.files.Source at 0x7f10eeacad50>"
            ],
            "image/svg+xml": "<?xml version=\"1.0\" encoding=\"UTF-8\" standalone=\"no\"?>\n<!DOCTYPE svg PUBLIC \"-//W3C//DTD SVG 1.1//EN\"\n \"http://www.w3.org/Graphics/SVG/1.1/DTD/svg11.dtd\">\n<!-- Generated by graphviz version 2.40.1 (20161225.0304)\n -->\n<!-- Title: Tree Pages: 1 -->\n<svg width=\"1324pt\" height=\"552pt\"\n viewBox=\"0.00 0.00 1323.50 552.00\" xmlns=\"http://www.w3.org/2000/svg\" xmlns:xlink=\"http://www.w3.org/1999/xlink\">\n<g id=\"graph0\" class=\"graph\" transform=\"scale(1 1) rotate(0) translate(4 548)\">\n<title>Tree</title>\n<polygon fill=\"#ffffff\" stroke=\"transparent\" points=\"-4,4 -4,-548 1319.5,-548 1319.5,4 -4,4\"/>\n<!-- 0 -->\n<g id=\"node1\" class=\"node\">\n<title>0</title>\n<path fill=\"#e78c4b\" stroke=\"#000000\" d=\"M871,-544C871,-544 771,-544 771,-544 765,-544 759,-538 759,-532 759,-532 759,-473 759,-473 759,-467 765,-461 771,-461 771,-461 871,-461 871,-461 877,-461 883,-467 883,-473 883,-473 883,-532 883,-532 883,-538 877,-544 871,-544\"/>\n<text text-anchor=\"middle\" x=\"821\" y=\"-528.8\" font-family=\"Helvetica,sans-Serif\" font-size=\"14.00\" fill=\"#000000\">height_m &lt;= 2.8</text>\n<text text-anchor=\"middle\" x=\"821\" y=\"-513.8\" font-family=\"Helvetica,sans-Serif\" font-size=\"14.00\" fill=\"#000000\">gini = 0.149</text>\n<text text-anchor=\"middle\" x=\"821\" y=\"-498.8\" font-family=\"Helvetica,sans-Serif\" font-size=\"14.00\" fill=\"#000000\">samples = 640</text>\n<text text-anchor=\"middle\" x=\"821\" y=\"-483.8\" font-family=\"Helvetica,sans-Serif\" font-size=\"14.00\" fill=\"#000000\">value = [588, 52]</text>\n<text text-anchor=\"middle\" x=\"821\" y=\"-468.8\" font-family=\"Helvetica,sans-Serif\" font-size=\"14.00\" fill=\"#000000\">class = No</text>\n</g>\n<!-- 1 -->\n<g id=\"node2\" class=\"node\">\n<title>1</title>\n<path fill=\"#e78945\" stroke=\"#000000\" d=\"M808,-425C808,-425 686,-425 686,-425 680,-425 674,-419 674,-413 674,-413 674,-354 674,-354 674,-348 680,-342 686,-342 686,-342 808,-342 808,-342 814,-342 820,-348 820,-354 820,-354 820,-413 820,-413 820,-419 814,-425 808,-425\"/>\n<text text-anchor=\"middle\" x=\"747\" y=\"-409.8\" font-family=\"Helvetica,sans-Serif\" font-size=\"14.00\" fill=\"#000000\">sp_defense &lt;= 99.5</text>\n<text text-anchor=\"middle\" x=\"747\" y=\"-394.8\" font-family=\"Helvetica,sans-Serif\" font-size=\"14.00\" fill=\"#000000\">gini = 0.11</text>\n<text text-anchor=\"middle\" x=\"747\" y=\"-379.8\" font-family=\"Helvetica,sans-Serif\" font-size=\"14.00\" fill=\"#000000\">samples = 615</text>\n<text text-anchor=\"middle\" x=\"747\" y=\"-364.8\" font-family=\"Helvetica,sans-Serif\" font-size=\"14.00\" fill=\"#000000\">value = [579, 36]</text>\n<text text-anchor=\"middle\" x=\"747\" y=\"-349.8\" font-family=\"Helvetica,sans-Serif\" font-size=\"14.00\" fill=\"#000000\">class = No</text>\n</g>\n<!-- 0&#45;&gt;1 -->\n<g id=\"edge1\" class=\"edge\">\n<title>0&#45;&gt;1</title>\n<path fill=\"none\" stroke=\"#000000\" d=\"M795.1184,-460.8796C789.6858,-452.1434 783.9008,-442.8404 778.2947,-433.8253\"/>\n<polygon fill=\"#000000\" stroke=\"#000000\" points=\"781.2451,-431.9418 772.9921,-425.2981 775.3007,-435.6383 781.2451,-431.9418\"/>\n<text text-anchor=\"middle\" x=\"767.3153\" y=\"-445.945\" font-family=\"Helvetica,sans-Serif\" font-size=\"14.00\" fill=\"#000000\">True</text>\n</g>\n<!-- 16 -->\n<g id=\"node17\" class=\"node\">\n<title>16</title>\n<path fill=\"#a8d4f4\" stroke=\"#000000\" d=\"M988,-425C988,-425 902,-425 902,-425 896,-425 890,-419 890,-413 890,-413 890,-354 890,-354 890,-348 896,-342 902,-342 902,-342 988,-342 988,-342 994,-342 1000,-348 1000,-354 1000,-354 1000,-413 1000,-413 1000,-419 994,-425 988,-425\"/>\n<text text-anchor=\"middle\" x=\"945\" y=\"-409.8\" font-family=\"Helvetica,sans-Serif\" font-size=\"14.00\" fill=\"#000000\">speed &lt;= 82.0</text>\n<text text-anchor=\"middle\" x=\"945\" y=\"-394.8\" font-family=\"Helvetica,sans-Serif\" font-size=\"14.00\" fill=\"#000000\">gini = 0.461</text>\n<text text-anchor=\"middle\" x=\"945\" y=\"-379.8\" font-family=\"Helvetica,sans-Serif\" font-size=\"14.00\" fill=\"#000000\">samples = 25</text>\n<text text-anchor=\"middle\" x=\"945\" y=\"-364.8\" font-family=\"Helvetica,sans-Serif\" font-size=\"14.00\" fill=\"#000000\">value = [9, 16]</text>\n<text text-anchor=\"middle\" x=\"945\" y=\"-349.8\" font-family=\"Helvetica,sans-Serif\" font-size=\"14.00\" fill=\"#000000\">class = Yes</text>\n</g>\n<!-- 0&#45;&gt;16 -->\n<g id=\"edge16\" class=\"edge\">\n<title>0&#45;&gt;16</title>\n<path fill=\"none\" stroke=\"#000000\" d=\"M864.3692,-460.8796C873.9416,-451.6931 884.1672,-441.8798 894.0103,-432.4336\"/>\n<polygon fill=\"#000000\" stroke=\"#000000\" points=\"896.6541,-434.7475 901.4457,-425.2981 891.8072,-429.6969 896.6541,-434.7475\"/>\n<text text-anchor=\"middle\" x=\"900.9314\" y=\"-446.5928\" font-family=\"Helvetica,sans-Serif\" font-size=\"14.00\" fill=\"#000000\">False</text>\n</g>\n<!-- 2 -->\n<g id=\"node3\" class=\"node\">\n<title>2</title>\n<path fill=\"#e6843e\" stroke=\"#000000\" d=\"M424,-306C424,-306 324,-306 324,-306 318,-306 312,-300 312,-294 312,-294 312,-235 312,-235 312,-229 318,-223 324,-223 324,-223 424,-223 424,-223 430,-223 436,-229 436,-235 436,-235 436,-294 436,-294 436,-300 430,-306 424,-306\"/>\n<text text-anchor=\"middle\" x=\"374\" y=\"-290.8\" font-family=\"Helvetica,sans-Serif\" font-size=\"14.00\" fill=\"#000000\">speed &lt;= 150.5</text>\n<text text-anchor=\"middle\" x=\"374\" y=\"-275.8\" font-family=\"Helvetica,sans-Serif\" font-size=\"14.00\" fill=\"#000000\">gini = 0.052</text>\n<text text-anchor=\"middle\" x=\"374\" y=\"-260.8\" font-family=\"Helvetica,sans-Serif\" font-size=\"14.00\" fill=\"#000000\">samples = 521</text>\n<text text-anchor=\"middle\" x=\"374\" y=\"-245.8\" font-family=\"Helvetica,sans-Serif\" font-size=\"14.00\" fill=\"#000000\">value = [507, 14]</text>\n<text text-anchor=\"middle\" x=\"374\" y=\"-230.8\" font-family=\"Helvetica,sans-Serif\" font-size=\"14.00\" fill=\"#000000\">class = No</text>\n</g>\n<!-- 1&#45;&gt;2 -->\n<g id=\"edge2\" class=\"edge\">\n<title>1&#45;&gt;2</title>\n<path fill=\"none\" stroke=\"#000000\" d=\"M673.7523,-360.1314C607.8634,-339.1106 511.6227,-308.4065 446.0919,-287.4998\"/>\n<polygon fill=\"#000000\" stroke=\"#000000\" points=\"446.8417,-284.0653 436.2509,-284.3602 444.714,-290.7341 446.8417,-284.0653\"/>\n</g>\n<!-- 9 -->\n<g id=\"node10\" class=\"node\">\n<title>9</title>\n<path fill=\"#eda876\" stroke=\"#000000\" d=\"M793,-306C793,-306 701,-306 701,-306 695,-306 689,-300 689,-294 689,-294 689,-235 689,-235 689,-229 695,-223 701,-223 701,-223 793,-223 793,-223 799,-223 805,-229 805,-235 805,-235 805,-294 805,-294 805,-300 799,-306 793,-306\"/>\n<text text-anchor=\"middle\" x=\"747\" y=\"-290.8\" font-family=\"Helvetica,sans-Serif\" font-size=\"14.00\" fill=\"#000000\">speed &lt;= 93.5</text>\n<text text-anchor=\"middle\" x=\"747\" y=\"-275.8\" font-family=\"Helvetica,sans-Serif\" font-size=\"14.00\" fill=\"#000000\">gini = 0.359</text>\n<text text-anchor=\"middle\" x=\"747\" y=\"-260.8\" font-family=\"Helvetica,sans-Serif\" font-size=\"14.00\" fill=\"#000000\">samples = 94</text>\n<text text-anchor=\"middle\" x=\"747\" y=\"-245.8\" font-family=\"Helvetica,sans-Serif\" font-size=\"14.00\" fill=\"#000000\">value = [72, 22]</text>\n<text text-anchor=\"middle\" x=\"747\" y=\"-230.8\" font-family=\"Helvetica,sans-Serif\" font-size=\"14.00\" fill=\"#000000\">class = No</text>\n</g>\n<!-- 1&#45;&gt;9 -->\n<g id=\"edge9\" class=\"edge\">\n<title>1&#45;&gt;9</title>\n<path fill=\"none\" stroke=\"#000000\" d=\"M747,-341.8796C747,-333.6838 747,-324.9891 747,-316.5013\"/>\n<polygon fill=\"#000000\" stroke=\"#000000\" points=\"750.5001,-316.298 747,-306.2981 743.5001,-316.2981 750.5001,-316.298\"/>\n</g>\n<!-- 3 -->\n<g id=\"node4\" class=\"node\">\n<title>3</title>\n<path fill=\"#e6843e\" stroke=\"#000000\" d=\"M238,-187C238,-187 138,-187 138,-187 132,-187 126,-181 126,-175 126,-175 126,-116 126,-116 126,-110 132,-104 138,-104 138,-104 238,-104 238,-104 244,-104 250,-110 250,-116 250,-116 250,-175 250,-175 250,-181 244,-187 238,-187\"/>\n<text text-anchor=\"middle\" x=\"188\" y=\"-171.8\" font-family=\"Helvetica,sans-Serif\" font-size=\"14.00\" fill=\"#000000\">hp &lt;= 88.5</text>\n<text text-anchor=\"middle\" x=\"188\" y=\"-156.8\" font-family=\"Helvetica,sans-Serif\" font-size=\"14.00\" fill=\"#000000\">gini = 0.045</text>\n<text text-anchor=\"middle\" x=\"188\" y=\"-141.8\" font-family=\"Helvetica,sans-Serif\" font-size=\"14.00\" fill=\"#000000\">samples = 518</text>\n<text text-anchor=\"middle\" x=\"188\" y=\"-126.8\" font-family=\"Helvetica,sans-Serif\" font-size=\"14.00\" fill=\"#000000\">value = [506, 12]</text>\n<text text-anchor=\"middle\" x=\"188\" y=\"-111.8\" font-family=\"Helvetica,sans-Serif\" font-size=\"14.00\" fill=\"#000000\">class = No</text>\n</g>\n<!-- 2&#45;&gt;3 -->\n<g id=\"edge3\" class=\"edge\">\n<title>2&#45;&gt;3</title>\n<path fill=\"none\" stroke=\"#000000\" d=\"M311.8061,-224.7093C294.7437,-213.793 276.1218,-201.879 258.6234,-190.6838\"/>\n<polygon fill=\"#000000\" stroke=\"#000000\" points=\"260.4451,-187.6943 250.1353,-185.2532 256.6726,-193.5908 260.4451,-187.6943\"/>\n</g>\n<!-- 6 -->\n<g id=\"node7\" class=\"node\">\n<title>6</title>\n<path fill=\"#9ccef2\" stroke=\"#000000\" d=\"M416,-187C416,-187 332,-187 332,-187 326,-187 320,-181 320,-175 320,-175 320,-116 320,-116 320,-110 326,-104 332,-104 332,-104 416,-104 416,-104 422,-104 428,-110 428,-116 428,-116 428,-175 428,-175 428,-181 422,-187 416,-187\"/>\n<text text-anchor=\"middle\" x=\"374\" y=\"-171.8\" font-family=\"Helvetica,sans-Serif\" font-size=\"14.00\" fill=\"#000000\">attack &lt;= 92.5</text>\n<text text-anchor=\"middle\" x=\"374\" y=\"-156.8\" font-family=\"Helvetica,sans-Serif\" font-size=\"14.00\" fill=\"#000000\">gini = 0.444</text>\n<text text-anchor=\"middle\" x=\"374\" y=\"-141.8\" font-family=\"Helvetica,sans-Serif\" font-size=\"14.00\" fill=\"#000000\">samples = 3</text>\n<text text-anchor=\"middle\" x=\"374\" y=\"-126.8\" font-family=\"Helvetica,sans-Serif\" font-size=\"14.00\" fill=\"#000000\">value = [1, 2]</text>\n<text text-anchor=\"middle\" x=\"374\" y=\"-111.8\" font-family=\"Helvetica,sans-Serif\" font-size=\"14.00\" fill=\"#000000\">class = Yes</text>\n</g>\n<!-- 2&#45;&gt;6 -->\n<g id=\"edge6\" class=\"edge\">\n<title>2&#45;&gt;6</title>\n<path fill=\"none\" stroke=\"#000000\" d=\"M374,-222.8796C374,-214.6838 374,-205.9891 374,-197.5013\"/>\n<polygon fill=\"#000000\" stroke=\"#000000\" points=\"377.5001,-197.298 374,-187.2981 370.5001,-197.2981 377.5001,-197.298\"/>\n</g>\n<!-- 4 -->\n<g id=\"node5\" class=\"node\">\n<title>4</title>\n<path fill=\"#e5823a\" stroke=\"#000000\" d=\"M104,-68C104,-68 12,-68 12,-68 6,-68 0,-62 0,-56 0,-56 0,-12 0,-12 0,-6 6,0 12,0 12,0 104,0 104,0 110,0 116,-6 116,-12 116,-12 116,-56 116,-56 116,-62 110,-68 104,-68\"/>\n<text text-anchor=\"middle\" x=\"58\" y=\"-52.8\" font-family=\"Helvetica,sans-Serif\" font-size=\"14.00\" fill=\"#000000\">gini = 0.013</text>\n<text text-anchor=\"middle\" x=\"58\" y=\"-37.8\" font-family=\"Helvetica,sans-Serif\" font-size=\"14.00\" fill=\"#000000\">samples = 442</text>\n<text text-anchor=\"middle\" x=\"58\" y=\"-22.8\" font-family=\"Helvetica,sans-Serif\" font-size=\"14.00\" fill=\"#000000\">value = [439, 3]</text>\n<text text-anchor=\"middle\" x=\"58\" y=\"-7.8\" font-family=\"Helvetica,sans-Serif\" font-size=\"14.00\" fill=\"#000000\">class = No</text>\n</g>\n<!-- 3&#45;&gt;4 -->\n<g id=\"edge4\" class=\"edge\">\n<title>3&#45;&gt;4</title>\n<path fill=\"none\" stroke=\"#000000\" d=\"M139.5928,-103.9815C128.5558,-94.5151 116.8347,-84.462 105.8223,-75.0168\"/>\n<polygon fill=\"#000000\" stroke=\"#000000\" points=\"107.8178,-72.1173 97.9487,-68.2637 103.2606,-77.4307 107.8178,-72.1173\"/>\n</g>\n<!-- 5 -->\n<g id=\"node6\" class=\"node\">\n<title>5</title>\n<path fill=\"#e89254\" stroke=\"#000000\" d=\"M229.5,-68C229.5,-68 146.5,-68 146.5,-68 140.5,-68 134.5,-62 134.5,-56 134.5,-56 134.5,-12 134.5,-12 134.5,-6 140.5,0 146.5,0 146.5,0 229.5,0 229.5,0 235.5,0 241.5,-6 241.5,-12 241.5,-12 241.5,-56 241.5,-56 241.5,-62 235.5,-68 229.5,-68\"/>\n<text text-anchor=\"middle\" x=\"188\" y=\"-52.8\" font-family=\"Helvetica,sans-Serif\" font-size=\"14.00\" fill=\"#000000\">gini = 0.209</text>\n<text text-anchor=\"middle\" x=\"188\" y=\"-37.8\" font-family=\"Helvetica,sans-Serif\" font-size=\"14.00\" fill=\"#000000\">samples = 76</text>\n<text text-anchor=\"middle\" x=\"188\" y=\"-22.8\" font-family=\"Helvetica,sans-Serif\" font-size=\"14.00\" fill=\"#000000\">value = [67, 9]</text>\n<text text-anchor=\"middle\" x=\"188\" y=\"-7.8\" font-family=\"Helvetica,sans-Serif\" font-size=\"14.00\" fill=\"#000000\">class = No</text>\n</g>\n<!-- 3&#45;&gt;5 -->\n<g id=\"edge5\" class=\"edge\">\n<title>3&#45;&gt;5</title>\n<path fill=\"none\" stroke=\"#000000\" d=\"M188,-103.9815C188,-95.618 188,-86.7965 188,-78.3409\"/>\n<polygon fill=\"#000000\" stroke=\"#000000\" points=\"191.5001,-78.2636 188,-68.2637 184.5001,-78.2637 191.5001,-78.2636\"/>\n</g>\n<!-- 7 -->\n<g id=\"node8\" class=\"node\">\n<title>7</title>\n<path fill=\"#e58139\" stroke=\"#000000\" d=\"M346.5,-68C346.5,-68 271.5,-68 271.5,-68 265.5,-68 259.5,-62 259.5,-56 259.5,-56 259.5,-12 259.5,-12 259.5,-6 265.5,0 271.5,0 271.5,0 346.5,0 346.5,0 352.5,0 358.5,-6 358.5,-12 358.5,-12 358.5,-56 358.5,-56 358.5,-62 352.5,-68 346.5,-68\"/>\n<text text-anchor=\"middle\" x=\"309\" y=\"-52.8\" font-family=\"Helvetica,sans-Serif\" font-size=\"14.00\" fill=\"#000000\">gini = 0.0</text>\n<text text-anchor=\"middle\" x=\"309\" y=\"-37.8\" font-family=\"Helvetica,sans-Serif\" font-size=\"14.00\" fill=\"#000000\">samples = 1</text>\n<text text-anchor=\"middle\" x=\"309\" y=\"-22.8\" font-family=\"Helvetica,sans-Serif\" font-size=\"14.00\" fill=\"#000000\">value = [1, 0]</text>\n<text text-anchor=\"middle\" x=\"309\" y=\"-7.8\" font-family=\"Helvetica,sans-Serif\" font-size=\"14.00\" fill=\"#000000\">class = No</text>\n</g>\n<!-- 6&#45;&gt;7 -->\n<g id=\"edge7\" class=\"edge\">\n<title>6&#45;&gt;7</title>\n<path fill=\"none\" stroke=\"#000000\" d=\"M349.7964,-103.9815C344.6529,-95.1585 339.2123,-85.8258 334.0384,-76.9506\"/>\n<polygon fill=\"#000000\" stroke=\"#000000\" points=\"337.0344,-75.1402 328.9743,-68.2637 330.987,-78.6656 337.0344,-75.1402\"/>\n</g>\n<!-- 8 -->\n<g id=\"node9\" class=\"node\">\n<title>8</title>\n<path fill=\"#399de5\" stroke=\"#000000\" d=\"M463.5,-68C463.5,-68 388.5,-68 388.5,-68 382.5,-68 376.5,-62 376.5,-56 376.5,-56 376.5,-12 376.5,-12 376.5,-6 382.5,0 388.5,0 388.5,0 463.5,0 463.5,0 469.5,0 475.5,-6 475.5,-12 475.5,-12 475.5,-56 475.5,-56 475.5,-62 469.5,-68 463.5,-68\"/>\n<text text-anchor=\"middle\" x=\"426\" y=\"-52.8\" font-family=\"Helvetica,sans-Serif\" font-size=\"14.00\" fill=\"#000000\">gini = 0.0</text>\n<text text-anchor=\"middle\" x=\"426\" y=\"-37.8\" font-family=\"Helvetica,sans-Serif\" font-size=\"14.00\" fill=\"#000000\">samples = 2</text>\n<text text-anchor=\"middle\" x=\"426\" y=\"-22.8\" font-family=\"Helvetica,sans-Serif\" font-size=\"14.00\" fill=\"#000000\">value = [0, 2]</text>\n<text text-anchor=\"middle\" x=\"426\" y=\"-7.8\" font-family=\"Helvetica,sans-Serif\" font-size=\"14.00\" fill=\"#000000\">class = Yes</text>\n</g>\n<!-- 6&#45;&gt;8 -->\n<g id=\"edge8\" class=\"edge\">\n<title>6&#45;&gt;8</title>\n<path fill=\"none\" stroke=\"#000000\" d=\"M393.3629,-103.9815C397.3919,-95.3423 401.6489,-86.2144 405.7103,-77.5059\"/>\n<polygon fill=\"#000000\" stroke=\"#000000\" points=\"408.9659,-78.8059 410.0205,-68.2637 402.6218,-75.8472 408.9659,-78.8059\"/>\n</g>\n<!-- 10 -->\n<g id=\"node11\" class=\"node\">\n<title>10</title>\n<path fill=\"#e99355\" stroke=\"#000000\" d=\"M701,-187C701,-187 615,-187 615,-187 609,-187 603,-181 603,-175 603,-175 603,-116 603,-116 603,-110 609,-104 615,-104 615,-104 701,-104 701,-104 707,-104 713,-110 713,-116 713,-116 713,-175 713,-175 713,-181 707,-187 701,-187\"/>\n<text text-anchor=\"middle\" x=\"658\" y=\"-171.8\" font-family=\"Helvetica,sans-Serif\" font-size=\"14.00\" fill=\"#000000\">psychic &lt;= 0.5</text>\n<text text-anchor=\"middle\" x=\"658\" y=\"-156.8\" font-family=\"Helvetica,sans-Serif\" font-size=\"14.00\" fill=\"#000000\">gini = 0.219</text>\n<text text-anchor=\"middle\" x=\"658\" y=\"-141.8\" font-family=\"Helvetica,sans-Serif\" font-size=\"14.00\" fill=\"#000000\">samples = 72</text>\n<text text-anchor=\"middle\" x=\"658\" y=\"-126.8\" font-family=\"Helvetica,sans-Serif\" font-size=\"14.00\" fill=\"#000000\">value = [63, 9]</text>\n<text text-anchor=\"middle\" x=\"658\" y=\"-111.8\" font-family=\"Helvetica,sans-Serif\" font-size=\"14.00\" fill=\"#000000\">class = No</text>\n</g>\n<!-- 9&#45;&gt;10 -->\n<g id=\"edge10\" class=\"edge\">\n<title>9&#45;&gt;10</title>\n<path fill=\"none\" stroke=\"#000000\" d=\"M715.8721,-222.8796C709.271,-214.0534 702.2371,-204.6485 695.4298,-195.5466\"/>\n<polygon fill=\"#000000\" stroke=\"#000000\" points=\"698.0528,-193.2099 689.2607,-187.2981 692.4472,-197.4024 698.0528,-193.2099\"/>\n</g>\n<!-- 13 -->\n<g id=\"node14\" class=\"node\">\n<title>13</title>\n<path fill=\"#c2e1f7\" stroke=\"#000000\" d=\"M827,-187C827,-187 743,-187 743,-187 737,-187 731,-181 731,-175 731,-175 731,-116 731,-116 731,-110 737,-104 743,-104 743,-104 827,-104 827,-104 833,-104 839,-110 839,-116 839,-116 839,-175 839,-175 839,-181 833,-187 827,-187\"/>\n<text text-anchor=\"middle\" x=\"785\" y=\"-171.8\" font-family=\"Helvetica,sans-Serif\" font-size=\"14.00\" fill=\"#000000\">attack &lt;= 72.0</text>\n<text text-anchor=\"middle\" x=\"785\" y=\"-156.8\" font-family=\"Helvetica,sans-Serif\" font-size=\"14.00\" fill=\"#000000\">gini = 0.483</text>\n<text text-anchor=\"middle\" x=\"785\" y=\"-141.8\" font-family=\"Helvetica,sans-Serif\" font-size=\"14.00\" fill=\"#000000\">samples = 22</text>\n<text text-anchor=\"middle\" x=\"785\" y=\"-126.8\" font-family=\"Helvetica,sans-Serif\" font-size=\"14.00\" fill=\"#000000\">value = [9, 13]</text>\n<text text-anchor=\"middle\" x=\"785\" y=\"-111.8\" font-family=\"Helvetica,sans-Serif\" font-size=\"14.00\" fill=\"#000000\">class = Yes</text>\n</g>\n<!-- 9&#45;&gt;13 -->\n<g id=\"edge13\" class=\"edge\">\n<title>9&#45;&gt;13</title>\n<path fill=\"none\" stroke=\"#000000\" d=\"M760.2906,-222.8796C762.9652,-214.5037 765.8063,-205.6067 768.5731,-196.942\"/>\n<polygon fill=\"#000000\" stroke=\"#000000\" points=\"771.9448,-197.8889 771.6527,-187.2981 765.2766,-195.7595 771.9448,-197.8889\"/>\n</g>\n<!-- 11 -->\n<g id=\"node12\" class=\"node\">\n<title>11</title>\n<path fill=\"#e78c49\" stroke=\"#000000\" d=\"M588.5,-68C588.5,-68 505.5,-68 505.5,-68 499.5,-68 493.5,-62 493.5,-56 493.5,-56 493.5,-12 493.5,-12 493.5,-6 499.5,0 505.5,0 505.5,0 588.5,0 588.5,0 594.5,0 600.5,-6 600.5,-12 600.5,-12 600.5,-56 600.5,-56 600.5,-62 594.5,-68 588.5,-68\"/>\n<text text-anchor=\"middle\" x=\"547\" y=\"-52.8\" font-family=\"Helvetica,sans-Serif\" font-size=\"14.00\" fill=\"#000000\">gini = 0.142</text>\n<text text-anchor=\"middle\" x=\"547\" y=\"-37.8\" font-family=\"Helvetica,sans-Serif\" font-size=\"14.00\" fill=\"#000000\">samples = 65</text>\n<text text-anchor=\"middle\" x=\"547\" y=\"-22.8\" font-family=\"Helvetica,sans-Serif\" font-size=\"14.00\" fill=\"#000000\">value = [60, 5]</text>\n<text text-anchor=\"middle\" x=\"547\" y=\"-7.8\" font-family=\"Helvetica,sans-Serif\" font-size=\"14.00\" fill=\"#000000\">class = No</text>\n</g>\n<!-- 10&#45;&gt;11 -->\n<g id=\"edge11\" class=\"edge\">\n<title>10&#45;&gt;11</title>\n<path fill=\"none\" stroke=\"#000000\" d=\"M616.6677,-103.9815C607.4267,-94.6989 597.6242,-84.8522 588.3813,-75.5677\"/>\n<polygon fill=\"#000000\" stroke=\"#000000\" points=\"590.6457,-72.8813 581.11,-68.2637 585.6848,-77.82 590.6457,-72.8813\"/>\n</g>\n<!-- 12 -->\n<g id=\"node13\" class=\"node\">\n<title>12</title>\n<path fill=\"#cee6f8\" stroke=\"#000000\" d=\"M705.5,-68C705.5,-68 630.5,-68 630.5,-68 624.5,-68 618.5,-62 618.5,-56 618.5,-56 618.5,-12 618.5,-12 618.5,-6 624.5,0 630.5,0 630.5,0 705.5,0 705.5,0 711.5,0 717.5,-6 717.5,-12 717.5,-12 717.5,-56 717.5,-56 717.5,-62 711.5,-68 705.5,-68\"/>\n<text text-anchor=\"middle\" x=\"668\" y=\"-52.8\" font-family=\"Helvetica,sans-Serif\" font-size=\"14.00\" fill=\"#000000\">gini = 0.49</text>\n<text text-anchor=\"middle\" x=\"668\" y=\"-37.8\" font-family=\"Helvetica,sans-Serif\" font-size=\"14.00\" fill=\"#000000\">samples = 7</text>\n<text text-anchor=\"middle\" x=\"668\" y=\"-22.8\" font-family=\"Helvetica,sans-Serif\" font-size=\"14.00\" fill=\"#000000\">value = [3, 4]</text>\n<text text-anchor=\"middle\" x=\"668\" y=\"-7.8\" font-family=\"Helvetica,sans-Serif\" font-size=\"14.00\" fill=\"#000000\">class = Yes</text>\n</g>\n<!-- 10&#45;&gt;12 -->\n<g id=\"edge12\" class=\"edge\">\n<title>10&#45;&gt;12</title>\n<path fill=\"none\" stroke=\"#000000\" d=\"M661.7236,-103.9815C662.4737,-95.618 663.2649,-86.7965 664.0232,-78.3409\"/>\n<polygon fill=\"#000000\" stroke=\"#000000\" points=\"667.5197,-78.5364 664.927,-68.2637 660.5477,-77.911 667.5197,-78.5364\"/>\n</g>\n<!-- 14 -->\n<g id=\"node15\" class=\"node\">\n<title>14</title>\n<path fill=\"#ea9a61\" stroke=\"#000000\" d=\"M822.5,-68C822.5,-68 747.5,-68 747.5,-68 741.5,-68 735.5,-62 735.5,-56 735.5,-56 735.5,-12 735.5,-12 735.5,-6 741.5,0 747.5,0 747.5,0 822.5,0 822.5,0 828.5,0 834.5,-6 834.5,-12 834.5,-12 834.5,-56 834.5,-56 834.5,-62 828.5,-68 822.5,-68\"/>\n<text text-anchor=\"middle\" x=\"785\" y=\"-52.8\" font-family=\"Helvetica,sans-Serif\" font-size=\"14.00\" fill=\"#000000\">gini = 0.278</text>\n<text text-anchor=\"middle\" x=\"785\" y=\"-37.8\" font-family=\"Helvetica,sans-Serif\" font-size=\"14.00\" fill=\"#000000\">samples = 6</text>\n<text text-anchor=\"middle\" x=\"785\" y=\"-22.8\" font-family=\"Helvetica,sans-Serif\" font-size=\"14.00\" fill=\"#000000\">value = [5, 1]</text>\n<text text-anchor=\"middle\" x=\"785\" y=\"-7.8\" font-family=\"Helvetica,sans-Serif\" font-size=\"14.00\" fill=\"#000000\">class = No</text>\n</g>\n<!-- 13&#45;&gt;14 -->\n<g id=\"edge14\" class=\"edge\">\n<title>13&#45;&gt;14</title>\n<path fill=\"none\" stroke=\"#000000\" d=\"M785,-103.9815C785,-95.618 785,-86.7965 785,-78.3409\"/>\n<polygon fill=\"#000000\" stroke=\"#000000\" points=\"788.5001,-78.2636 785,-68.2637 781.5001,-78.2637 788.5001,-78.2636\"/>\n</g>\n<!-- 15 -->\n<g id=\"node16\" class=\"node\">\n<title>15</title>\n<path fill=\"#7bbeee\" stroke=\"#000000\" d=\"M947.5,-68C947.5,-68 864.5,-68 864.5,-68 858.5,-68 852.5,-62 852.5,-56 852.5,-56 852.5,-12 852.5,-12 852.5,-6 858.5,0 864.5,0 864.5,0 947.5,0 947.5,0 953.5,0 959.5,-6 959.5,-12 959.5,-12 959.5,-56 959.5,-56 959.5,-62 953.5,-68 947.5,-68\"/>\n<text text-anchor=\"middle\" x=\"906\" y=\"-52.8\" font-family=\"Helvetica,sans-Serif\" font-size=\"14.00\" fill=\"#000000\">gini = 0.375</text>\n<text text-anchor=\"middle\" x=\"906\" y=\"-37.8\" font-family=\"Helvetica,sans-Serif\" font-size=\"14.00\" fill=\"#000000\">samples = 16</text>\n<text text-anchor=\"middle\" x=\"906\" y=\"-22.8\" font-family=\"Helvetica,sans-Serif\" font-size=\"14.00\" fill=\"#000000\">value = [4, 12]</text>\n<text text-anchor=\"middle\" x=\"906\" y=\"-7.8\" font-family=\"Helvetica,sans-Serif\" font-size=\"14.00\" fill=\"#000000\">class = Yes</text>\n</g>\n<!-- 13&#45;&gt;15 -->\n<g id=\"edge15\" class=\"edge\">\n<title>13&#45;&gt;15</title>\n<path fill=\"none\" stroke=\"#000000\" d=\"M830.0559,-103.9815C840.2291,-94.607 851.0267,-84.6572 861.1898,-75.2921\"/>\n<polygon fill=\"#000000\" stroke=\"#000000\" points=\"863.8349,-77.6141 868.817,-68.2637 859.0913,-72.4663 863.8349,-77.6141\"/>\n</g>\n<!-- 17 -->\n<g id=\"node18\" class=\"node\">\n<title>17</title>\n<path fill=\"#e89152\" stroke=\"#000000\" d=\"M1004.5,-306C1004.5,-306 885.5,-306 885.5,-306 879.5,-306 873.5,-300 873.5,-294 873.5,-294 873.5,-235 873.5,-235 873.5,-229 879.5,-223 885.5,-223 885.5,-223 1004.5,-223 1004.5,-223 1010.5,-223 1016.5,-229 1016.5,-235 1016.5,-235 1016.5,-294 1016.5,-294 1016.5,-300 1010.5,-306 1004.5,-306\"/>\n<text text-anchor=\"middle\" x=\"945\" y=\"-290.8\" font-family=\"Helvetica,sans-Serif\" font-size=\"14.00\" fill=\"#000000\">weight_kg &lt;= 644.0</text>\n<text text-anchor=\"middle\" x=\"945\" y=\"-275.8\" font-family=\"Helvetica,sans-Serif\" font-size=\"14.00\" fill=\"#000000\">gini = 0.198</text>\n<text text-anchor=\"middle\" x=\"945\" y=\"-260.8\" font-family=\"Helvetica,sans-Serif\" font-size=\"14.00\" fill=\"#000000\">samples = 9</text>\n<text text-anchor=\"middle\" x=\"945\" y=\"-245.8\" font-family=\"Helvetica,sans-Serif\" font-size=\"14.00\" fill=\"#000000\">value = [8, 1]</text>\n<text text-anchor=\"middle\" x=\"945\" y=\"-230.8\" font-family=\"Helvetica,sans-Serif\" font-size=\"14.00\" fill=\"#000000\">class = No</text>\n</g>\n<!-- 16&#45;&gt;17 -->\n<g id=\"edge17\" class=\"edge\">\n<title>16&#45;&gt;17</title>\n<path fill=\"none\" stroke=\"#000000\" d=\"M945,-341.8796C945,-333.6838 945,-324.9891 945,-316.5013\"/>\n<polygon fill=\"#000000\" stroke=\"#000000\" points=\"948.5001,-316.298 945,-306.2981 941.5001,-316.2981 948.5001,-316.298\"/>\n</g>\n<!-- 20 -->\n<g id=\"node21\" class=\"node\">\n<title>20</title>\n<path fill=\"#46a4e7\" stroke=\"#000000\" d=\"M1196.5,-306C1196.5,-306 1085.5,-306 1085.5,-306 1079.5,-306 1073.5,-300 1073.5,-294 1073.5,-294 1073.5,-235 1073.5,-235 1073.5,-229 1079.5,-223 1085.5,-223 1085.5,-223 1196.5,-223 1196.5,-223 1202.5,-223 1208.5,-229 1208.5,-235 1208.5,-235 1208.5,-294 1208.5,-294 1208.5,-300 1202.5,-306 1196.5,-306\"/>\n<text text-anchor=\"middle\" x=\"1141\" y=\"-290.8\" font-family=\"Helvetica,sans-Serif\" font-size=\"14.00\" fill=\"#000000\">weight_kg &lt;= 81.5</text>\n<text text-anchor=\"middle\" x=\"1141\" y=\"-275.8\" font-family=\"Helvetica,sans-Serif\" font-size=\"14.00\" fill=\"#000000\">gini = 0.117</text>\n<text text-anchor=\"middle\" x=\"1141\" y=\"-260.8\" font-family=\"Helvetica,sans-Serif\" font-size=\"14.00\" fill=\"#000000\">samples = 16</text>\n<text text-anchor=\"middle\" x=\"1141\" y=\"-245.8\" font-family=\"Helvetica,sans-Serif\" font-size=\"14.00\" fill=\"#000000\">value = [1, 15]</text>\n<text text-anchor=\"middle\" x=\"1141\" y=\"-230.8\" font-family=\"Helvetica,sans-Serif\" font-size=\"14.00\" fill=\"#000000\">class = Yes</text>\n</g>\n<!-- 16&#45;&gt;20 -->\n<g id=\"edge20\" class=\"edge\">\n<title>16&#45;&gt;20</title>\n<path fill=\"none\" stroke=\"#000000\" d=\"M1000.1185,-350.0352C1020.1211,-337.8908 1043.0926,-323.9438 1064.6028,-310.884\"/>\n<polygon fill=\"#000000\" stroke=\"#000000\" points=\"1066.6675,-313.7251 1073.3989,-305.5435 1063.0346,-307.7416 1066.6675,-313.7251\"/>\n</g>\n<!-- 18 -->\n<g id=\"node19\" class=\"node\">\n<title>18</title>\n<path fill=\"#e58139\" stroke=\"#000000\" d=\"M944.5,-179.5C944.5,-179.5 869.5,-179.5 869.5,-179.5 863.5,-179.5 857.5,-173.5 857.5,-167.5 857.5,-167.5 857.5,-123.5 857.5,-123.5 857.5,-117.5 863.5,-111.5 869.5,-111.5 869.5,-111.5 944.5,-111.5 944.5,-111.5 950.5,-111.5 956.5,-117.5 956.5,-123.5 956.5,-123.5 956.5,-167.5 956.5,-167.5 956.5,-173.5 950.5,-179.5 944.5,-179.5\"/>\n<text text-anchor=\"middle\" x=\"907\" y=\"-164.3\" font-family=\"Helvetica,sans-Serif\" font-size=\"14.00\" fill=\"#000000\">gini = 0.0</text>\n<text text-anchor=\"middle\" x=\"907\" y=\"-149.3\" font-family=\"Helvetica,sans-Serif\" font-size=\"14.00\" fill=\"#000000\">samples = 8</text>\n<text text-anchor=\"middle\" x=\"907\" y=\"-134.3\" font-family=\"Helvetica,sans-Serif\" font-size=\"14.00\" fill=\"#000000\">value = [8, 0]</text>\n<text text-anchor=\"middle\" x=\"907\" y=\"-119.3\" font-family=\"Helvetica,sans-Serif\" font-size=\"14.00\" fill=\"#000000\">class = No</text>\n</g>\n<!-- 17&#45;&gt;18 -->\n<g id=\"edge18\" class=\"edge\">\n<title>17&#45;&gt;18</title>\n<path fill=\"none\" stroke=\"#000000\" d=\"M931.7094,-222.8796C928.2683,-212.1034 924.5517,-200.4647 921.0721,-189.5677\"/>\n<polygon fill=\"#000000\" stroke=\"#000000\" points=\"924.3339,-188.2763 917.9577,-179.8149 917.6656,-190.4057 924.3339,-188.2763\"/>\n</g>\n<!-- 19 -->\n<g id=\"node20\" class=\"node\">\n<title>19</title>\n<path fill=\"#399de5\" stroke=\"#000000\" d=\"M1061.5,-179.5C1061.5,-179.5 986.5,-179.5 986.5,-179.5 980.5,-179.5 974.5,-173.5 974.5,-167.5 974.5,-167.5 974.5,-123.5 974.5,-123.5 974.5,-117.5 980.5,-111.5 986.5,-111.5 986.5,-111.5 1061.5,-111.5 1061.5,-111.5 1067.5,-111.5 1073.5,-117.5 1073.5,-123.5 1073.5,-123.5 1073.5,-167.5 1073.5,-167.5 1073.5,-173.5 1067.5,-179.5 1061.5,-179.5\"/>\n<text text-anchor=\"middle\" x=\"1024\" y=\"-164.3\" font-family=\"Helvetica,sans-Serif\" font-size=\"14.00\" fill=\"#000000\">gini = 0.0</text>\n<text text-anchor=\"middle\" x=\"1024\" y=\"-149.3\" font-family=\"Helvetica,sans-Serif\" font-size=\"14.00\" fill=\"#000000\">samples = 1</text>\n<text text-anchor=\"middle\" x=\"1024\" y=\"-134.3\" font-family=\"Helvetica,sans-Serif\" font-size=\"14.00\" fill=\"#000000\">value = [0, 1]</text>\n<text text-anchor=\"middle\" x=\"1024\" y=\"-119.3\" font-family=\"Helvetica,sans-Serif\" font-size=\"14.00\" fill=\"#000000\">class = Yes</text>\n</g>\n<!-- 17&#45;&gt;19 -->\n<g id=\"edge19\" class=\"edge\">\n<title>17&#45;&gt;19</title>\n<path fill=\"none\" stroke=\"#000000\" d=\"M972.6304,-222.8796C980.0763,-211.6636 988.1425,-199.5131 995.6282,-188.2372\"/>\n<polygon fill=\"#000000\" stroke=\"#000000\" points=\"998.6046,-190.082 1001.2195,-179.8149 992.7727,-186.2104 998.6046,-190.082\"/>\n</g>\n<!-- 21 -->\n<g id=\"node22\" class=\"node\">\n<title>21</title>\n<path fill=\"#e58139\" stroke=\"#000000\" d=\"M1178.5,-179.5C1178.5,-179.5 1103.5,-179.5 1103.5,-179.5 1097.5,-179.5 1091.5,-173.5 1091.5,-167.5 1091.5,-167.5 1091.5,-123.5 1091.5,-123.5 1091.5,-117.5 1097.5,-111.5 1103.5,-111.5 1103.5,-111.5 1178.5,-111.5 1178.5,-111.5 1184.5,-111.5 1190.5,-117.5 1190.5,-123.5 1190.5,-123.5 1190.5,-167.5 1190.5,-167.5 1190.5,-173.5 1184.5,-179.5 1178.5,-179.5\"/>\n<text text-anchor=\"middle\" x=\"1141\" y=\"-164.3\" font-family=\"Helvetica,sans-Serif\" font-size=\"14.00\" fill=\"#000000\">gini = 0.0</text>\n<text text-anchor=\"middle\" x=\"1141\" y=\"-149.3\" font-family=\"Helvetica,sans-Serif\" font-size=\"14.00\" fill=\"#000000\">samples = 1</text>\n<text text-anchor=\"middle\" x=\"1141\" y=\"-134.3\" font-family=\"Helvetica,sans-Serif\" font-size=\"14.00\" fill=\"#000000\">value = [1, 0]</text>\n<text text-anchor=\"middle\" x=\"1141\" y=\"-119.3\" font-family=\"Helvetica,sans-Serif\" font-size=\"14.00\" fill=\"#000000\">class = No</text>\n</g>\n<!-- 20&#45;&gt;21 -->\n<g id=\"edge21\" class=\"edge\">\n<title>20&#45;&gt;21</title>\n<path fill=\"none\" stroke=\"#000000\" d=\"M1141,-222.8796C1141,-212.2134 1141,-200.7021 1141,-189.9015\"/>\n<polygon fill=\"#000000\" stroke=\"#000000\" points=\"1144.5001,-189.8149 1141,-179.8149 1137.5001,-189.815 1144.5001,-189.8149\"/>\n</g>\n<!-- 22 -->\n<g id=\"node23\" class=\"node\">\n<title>22</title>\n<path fill=\"#399de5\" stroke=\"#000000\" d=\"M1303.5,-179.5C1303.5,-179.5 1220.5,-179.5 1220.5,-179.5 1214.5,-179.5 1208.5,-173.5 1208.5,-167.5 1208.5,-167.5 1208.5,-123.5 1208.5,-123.5 1208.5,-117.5 1214.5,-111.5 1220.5,-111.5 1220.5,-111.5 1303.5,-111.5 1303.5,-111.5 1309.5,-111.5 1315.5,-117.5 1315.5,-123.5 1315.5,-123.5 1315.5,-167.5 1315.5,-167.5 1315.5,-173.5 1309.5,-179.5 1303.5,-179.5\"/>\n<text text-anchor=\"middle\" x=\"1262\" y=\"-164.3\" font-family=\"Helvetica,sans-Serif\" font-size=\"14.00\" fill=\"#000000\">gini = 0.0</text>\n<text text-anchor=\"middle\" x=\"1262\" y=\"-149.3\" font-family=\"Helvetica,sans-Serif\" font-size=\"14.00\" fill=\"#000000\">samples = 15</text>\n<text text-anchor=\"middle\" x=\"1262\" y=\"-134.3\" font-family=\"Helvetica,sans-Serif\" font-size=\"14.00\" fill=\"#000000\">value = [0, 15]</text>\n<text text-anchor=\"middle\" x=\"1262\" y=\"-119.3\" font-family=\"Helvetica,sans-Serif\" font-size=\"14.00\" fill=\"#000000\">class = Yes</text>\n</g>\n<!-- 20&#45;&gt;22 -->\n<g id=\"edge22\" class=\"edge\">\n<title>20&#45;&gt;22</title>\n<path fill=\"none\" stroke=\"#000000\" d=\"M1183.3199,-222.8796C1195.1717,-211.2237 1208.0495,-198.5587 1219.8891,-186.9148\"/>\n<polygon fill=\"#000000\" stroke=\"#000000\" points=\"1222.4327,-189.3223 1227.1083,-179.8149 1217.5244,-184.3314 1222.4327,-189.3223\"/>\n</g>\n</g>\n</svg>\n"
          },
          "metadata": {},
          "execution_count": 19
        }
      ],
      "source": [
        "from pathlib import Path\n",
        "\n",
        "IMAGES_PATH = Path() #/ \"images\" / \"decision_trees\"\n",
        "\n",
        "\n",
        "from sklearn.tree import export_graphviz\n",
        "\n",
        "export_graphviz(\n",
        "        tree_clf,\n",
        "        out_file=str(IMAGES_PATH / \"Pokedex_tree.dot\"),  \n",
        "        feature_names=x_train.columns,\n",
        "        class_names=[\"No\",'Yes'],\n",
        "        rounded=True,\n",
        "        filled=True\n",
        "    )\n",
        "\n",
        "from graphviz import Source\n",
        "\n",
        "Source.from_file(IMAGES_PATH / \"Pokedex_tree.dot\")"
      ]
    },
    {
      "cell_type": "markdown",
      "metadata": {
        "id": "h772faGsNBh6"
      },
      "source": [
        "Please, provide a comprehensive explanation of your tree. Feel free to support it with information extracted from the tree. Give also an assessment of the goodness-of-fit of the tree."
      ]
    },
    {
      "cell_type": "markdown",
      "metadata": {
        "id": "MSclS_iANBh6"
      },
      "source": [
        "The decision tree looks at all the possible variables and decides that in this case the one that best separates the information is the variable height_m, with a threshold of 2.8m. This separates the data space into two regions. When predicting, if it is true that the pokemon has height_m less than or equal to 2.8 it will go to one of the regions and if not to the other.\n",
        "\n",
        "If there were no more decision nodes, the answer of the tree would be the probability of being legendary in each of the cases (remember that the is_legendary variable is binary).\n",
        "\n",
        "In this case we have a depth of 4, so we have more steps in which the algorithm is repeated to find the variable that best separates the data, in terms of the gini criterion. \n",
        "\n",
        "For the assessment of the goodness of fit We will use the AUC Score:"
      ]
    },
    {
      "cell_type": "code",
      "source": [
        "from sklearn.model_selection import cross_val_predict\n",
        "from sklearn.metrics import roc_auc_score\n",
        "\n",
        "scores_tree = cross_val_predict(tree_clf, x_test,y_test, cv=3,method='predict_proba')\n",
        "y_scores = scores_tree[:,1]\n",
        "a = roc_auc_score(y_test, y_scores)\n",
        "print('Accuracy Decision Tree:',a)"
      ],
      "metadata": {
        "colab": {
          "base_uri": "https://localhost:8080/"
        },
        "id": "R1TxcT6bYNcl",
        "outputId": "0a560d73-b84d-4423-cce2-30d8fbe45c78"
      },
      "execution_count": 20,
      "outputs": [
        {
          "output_type": "stream",
          "name": "stdout",
          "text": [
            "Accuracy Decision Tree: 0.6905594405594405\n"
          ]
        }
      ]
    },
    {
      "cell_type": "markdown",
      "metadata": {
        "dc": {
          "key": "54"
        },
        "deletable": false,
        "editable": false,
        "run_control": {
          "frozen": true
        },
        "tags": [
          "context"
        ],
        "id": "lzcjM3r6NBh7"
      },
      "source": [
        "## 8. Fit a random forest (1 point)\n",
        "<p>Decision trees are unstable and sensitive to small variations in the data. It therefore makes sense to fit a <strong>random forest</strong> – an ensemble method that averages over several decision trees all at once. This should give us a more robust model that classifies Pokémon with greater accuracy.</p>"
      ]
    },
    {
      "cell_type": "code",
      "execution_count": 21,
      "metadata": {
        "dc": {
          "key": "54"
        },
        "tags": [
          "sample_code"
        ],
        "vscode": {
          "languageId": "r"
        },
        "colab": {
          "base_uri": "https://localhost:8080/"
        },
        "id": "1vZdPguDNBh7",
        "outputId": "d504c988-2674-4fe8-8cec-41fd006ba667"
      },
      "outputs": [
        {
          "output_type": "stream",
          "name": "stdout",
          "text": [
            "Accuracy Random Forest: 0.9324009324009325\n"
          ]
        }
      ],
      "source": [
        "# YOUR CODE HERE\n",
        "\n",
        "from sklearn.ensemble import RandomForestClassifier\n",
        "\n",
        "rf_clf= RandomForestClassifier(random_state=1812,n_estimators=1000)\n",
        "rf_clf.fit(x_train, y_train)\n",
        "\n",
        "scores_rf = cross_val_predict(rf_clf, x_test,y_test, cv=3,method='predict_proba')\n",
        "y_scores_rf=scores_rf[:,1]\n",
        "print('Accuracy Random Forest:',roc_auc_score(y_test, y_scores_rf))\n"
      ]
    },
    {
      "cell_type": "markdown",
      "metadata": {
        "dc": {
          "key": "61"
        },
        "deletable": false,
        "editable": false,
        "run_control": {
          "frozen": true
        },
        "tags": [
          "context"
        ],
        "id": "QCGi_6cgNBh8"
      },
      "source": [
        "## 9. Assess model fit (1 point)\n",
        "First, assess how good is this model.\n",
        "\n",
        "<p>Now, in order to allow direct comparison with the decision tree, we will plot the <strong>ROC curves</strong> for both models, which will visualize their true positive rate (TPR) and false positive rate (FPR) respectively.</p>"
      ]
    },
    {
      "cell_type": "code",
      "execution_count": 22,
      "metadata": {
        "dc": {
          "key": "61"
        },
        "tags": [
          "sample_code"
        ],
        "vscode": {
          "languageId": "r"
        },
        "id": "c_S5UPvzNBh9",
        "colab": {
          "base_uri": "https://localhost:8080/",
          "height": 298
        },
        "outputId": "e3f526a5-e87d-4e8a-f5b8-74058be90fa9"
      },
      "outputs": [
        {
          "output_type": "execute_result",
          "data": {
            "text/plain": [
              "<matplotlib.legend.Legend at 0x7f10eece3c10>"
            ]
          },
          "metadata": {},
          "execution_count": 22
        },
        {
          "output_type": "display_data",
          "data": {
            "text/plain": [
              "<Figure size 432x288 with 1 Axes>"
            ],
            "image/png": "[encoded data removed]"
          },
          "metadata": {
            "needs_background": "light"
          }
        }
      ],
      "source": [
        "# YOUR CODE HERE\n",
        "from sklearn.metrics import roc_curve, auc\n",
        "\n",
        "fpr_T, tpr_T, thresholds_T = roc_curve(y_test, y_scores)\n",
        "fpr_RF, tpr_RF, thresholds_RF = roc_curve(y_test, y_scores_rf)\n",
        "fpr_RF\n",
        "\n",
        "plt.plot(fpr_T, tpr_T, linewidth=2, label=\"ROC curve Tree\")\n",
        "plt.plot([0, 1], [0, 1], 'k:', label=\"Random classifier's ROC curve\")\n",
        "plt.plot(fpr_RF, tpr_RF, linewidth=2, label=\"ROC curve Random Forest\")\n",
        "plt.title('Comparison of ROC Curves')\n",
        "plt.legend()"
      ]
    },
    {
      "cell_type": "markdown",
      "metadata": {
        "id": "oxdcV460NBh9"
      },
      "source": [
        "Which model is better?\n",
        "\n",
        " Random Forest is better as we see previously with the scores."
      ]
    },
    {
      "cell_type": "markdown",
      "metadata": {
        "dc": {
          "key": "68"
        },
        "deletable": false,
        "editable": false,
        "run_control": {
          "frozen": true
        },
        "tags": [
          "context"
        ],
        "id": "a569zhw9NBh9"
      },
      "source": [
        "## 10. Analyze variable importance (0.25 points)\n",
        "<p>It's clear from the ROC curves that the Random Forest is a substantially better model, boasting an AUC of **** % versus the Random Classifier's **** %. When calculating variable importance, it makes sense to do so with the best model available, so we'll use the Random Forest for the final part of our analysis.</p>\n"
      ]
    },
    {
      "cell_type": "code",
      "source": [
        "R=[]\n",
        "for score, name in zip(rf_clf.feature_importances_, x.columns):\n",
        "  R.append((round(score, 2), name))\n",
        "R = np.array(R)\n",
        "R_sort = R[R[:,0].argsort()[::-1]]\n",
        "print(R_sort)"
      ],
      "metadata": {
        "colab": {
          "base_uri": "https://localhost:8080/"
        },
        "id": "vVPyvaC7l2o0",
        "outputId": "b419bd52-743c-4856-b494-cc826e091a40"
      },
      "execution_count": 23,
      "outputs": [
        {
          "output_type": "stream",
          "name": "stdout",
          "text": [
            "[['0.14' 'speed']\n",
            " ['0.13' 'sp_attack']\n",
            " ['0.12' 'hp']\n",
            " ['0.12' 'weight_kg']\n",
            " ['0.11' 'height_m']\n",
            " ['0.1' 'sp_defense']\n",
            " ['0.08' 'attack']\n",
            " ['0.08' 'defense']\n",
            " ['0.03' 'psychic']\n",
            " ['0.01' 'steel']\n",
            " ['0.01' 'bug']\n",
            " ['0.01' 'dragon']\n",
            " ['0.01' 'electric']\n",
            " ['0.01' 'water']\n",
            " ['0.01' 'fire']\n",
            " ['0.01' 'flying']\n",
            " ['0.01' 'grass']\n",
            " ['0.01' 'rock']\n",
            " ['0.0' 'fighting']\n",
            " ['0.0' 'dark']\n",
            " ['0.0' 'ghost']\n",
            " ['0.0' 'ground']\n",
            " ['0.0' 'ice']\n",
            " ['0.0' 'normal']\n",
            " ['0.0' 'poison']\n",
            " ['0.0' 'fairy']]\n"
          ]
        }
      ]
    },
    {
      "cell_type": "markdown",
      "metadata": {
        "id": "lVrfRAX_NBh-"
      },
      "source": [
        "## 11. Other classification methods (2.5 points)\n",
        "\n",
        "Use some of the models you have learnt to perform the same classification task carried out above. Compare them all!"
      ]
    },
    {
      "cell_type": "code",
      "execution_count": null,
      "metadata": {
        "vscode": {
          "languageId": "r"
        },
        "id": "zUNthARhNBh_"
      },
      "outputs": [],
      "source": [
        "# YOUR CODE HERE\n",
        "\n",
        "#grid search and random search para el random forest\n",
        "#svm también con grid search y random search\n",
        "\n",
        "\n",
        "\n"
      ]
    },
    {
      "cell_type": "code",
      "source": [
        "#Logistic Regression\n",
        "from sklearn.linear_model import LogisticRegression\n",
        "LR_clf= LogisticRegression(random_state=1812, max_iter=1000)\n",
        "LR_clf.fit(x_train, y_train)\n",
        "\n",
        "scores_LR = cross_val_predict(LR_clf, x_test,y_test, cv=3,method='predict_proba')\n",
        "y_scores_LR=scores_LR[:,1]\n",
        "print('Accuracy Logistic Regression:',roc_auc_score(y_test, y_scores_LR))\n"
      ],
      "metadata": {
        "colab": {
          "base_uri": "https://localhost:8080/"
        },
        "id": "ucjM4PkB4Rme",
        "outputId": "82d33850-54ae-4d2b-8f24-73b8e375da0b"
      },
      "execution_count": 24,
      "outputs": [
        {
          "output_type": "stream",
          "name": "stdout",
          "text": [
            "Accuracy Logistic Regression: 0.8725718725718725\n"
          ]
        }
      ]
    },
    {
      "cell_type": "code",
      "source": [
        "#SVC\n",
        "from sklearn.svm import SVC\n",
        "\n",
        "SVC_clf= SVC(random_state=1812,probability=True)\n",
        "SVC_clf.fit(x_train, y_train)\n",
        "\n",
        "scores_SVC = cross_val_predict(SVC_clf, x_test,y_test, cv=3,method='predict_proba')\n",
        "y_scores_SVC=scores_SVC[:,1]\n",
        "print('Accuracy Support Vector Machine:',roc_auc_score(y_test, y_scores_SVC))"
      ],
      "metadata": {
        "colab": {
          "base_uri": "https://localhost:8080/"
        },
        "id": "HIlka_Zn470N",
        "outputId": "574c42f3-e8ce-4208-b74b-b669bc991da0"
      },
      "execution_count": null,
      "outputs": [
        {
          "output_type": "stream",
          "name": "stdout",
          "text": [
            "Accuracy Support Vector Machine: 0.891996891996892\n"
          ]
        }
      ]
    },
    {
      "cell_type": "code",
      "source": [
        "#Grid Search for Random forest\n",
        "from sklearn.model_selection import GridSearchCV\n",
        "\n",
        "param_grid = [\n",
        "    # try 12 (3×4) combinations of hyperparameters\n",
        "    {'n_estimators': [30, 100, 500], 'max_features': [8, 14]},\n",
        "    # then try 6 (2×3) combinations with bootstrap set as False\n",
        "    {'bootstrap': [False], 'n_estimators': [100, 500], 'max_features': [8,12]},\n",
        "  ]\n",
        "\n",
        "forest_clf = RandomForestClassifier(random_state=42)\n",
        "# train across 5 folds, that's a total of (12+6)*5=90 rounds of training \n",
        "grid_search_RF = GridSearchCV(forest_clf, param_grid, cv=3,\n",
        "                           scoring='roc_auc',\n",
        "                           return_train_score=True)\n",
        "grid_search_RF.fit(x_train, y_train)\n",
        "\n",
        "scores_grid_search_RF = cross_val_predict(grid_search_RF, x_test,y_test, cv=3,method='predict_proba')\n",
        "y_scores_grid_search_RF=scores_grid_search_RF[:,1]\n",
        "print('Accuracy Random Forest with grid search:',roc_auc_score(y_test, y_scores_grid_search_RF))"
      ],
      "metadata": {
        "colab": {
          "base_uri": "https://localhost:8080/"
        },
        "id": "2rXTKDNm5iBp",
        "outputId": "314af9d9-b447-4f48-ea33-73a9489d4914"
      },
      "execution_count": null,
      "outputs": [
        {
          "output_type": "stream",
          "name": "stdout",
          "text": [
            "Accuracy Random Forest with grid search: 0.9238539238539238\n"
          ]
        }
      ]
    },
    {
      "cell_type": "code",
      "source": [
        "#Grid Search for SVC\n",
        "param_grid = [\n",
        "    # try 3 combinations of hyperparameters\n",
        "    {'max_iter': [300, 1000, 1500,3000]}\n",
        "  ]\n",
        "\n",
        "SVC_clf_G= SVC(random_state=1812,probability=True)\n",
        "# train across 3 folds, that's a total of 9 rounds of training \n",
        "grid_search_SVC = GridSearchCV(SVC_clf_G, param_grid, cv=3,\n",
        "                           scoring='roc_auc',\n",
        "                           return_train_score=True)\n",
        "grid_search_SVC.fit(x_train, y_train)\n",
        "\n",
        "scores_grid_search_SVC = cross_val_predict(grid_search_SVC, x_test,y_test, cv=3,method='predict_proba')\n",
        "y_scores_grid_search_SVC=scores_grid_search_SVC[:,1]\n",
        "print('Accuracy SVC with grid search:',roc_auc_score(y_test, y_scores_grid_search_SVC))"
      ],
      "metadata": {
        "colab": {
          "base_uri": "https://localhost:8080/"
        },
        "id": "cjVkavnQ7Wq4",
        "outputId": "c4728368-6f0a-4050-b3de-9515c1d1dd8d"
      },
      "execution_count": null,
      "outputs": [
        {
          "output_type": "stream",
          "name": "stdout",
          "text": [
            "Accuracy SVC with grid search: 0.891996891996892\n"
          ]
        }
      ]
    },
    {
      "cell_type": "code",
      "source": [
        "#Random search\n",
        "from sklearn.model_selection import RandomizedSearchCV\n",
        "from scipy.stats import randint\n",
        "\n",
        "param_distribs = {\n",
        "        'n_estimators': randint(low=1, high=200),\n",
        "        'max_features': randint(low=1, high=8),\n",
        "    }\n",
        "\n",
        "forest_clf_R = RandomForestClassifier(random_state=42)\n",
        "rnd_search_RF = RandomizedSearchCV(forest_clf_R, param_distributions=param_distribs,\n",
        "                                n_iter=10, cv=3, scoring='roc_auc', random_state=42)\n",
        "rnd_search_RF.fit(x_train, y_train)\n",
        "\n",
        "scores_random_search_RF = cross_val_predict(rnd_search_RF, x_test,y_test, cv=3,method='predict_proba')\n",
        "y_scores_random_search_RF=scores_random_search_RF[:,1]\n",
        "print('Accuracy Random Forest with random search:',roc_auc_score(y_test, y_scores_random_search_RF))"
      ],
      "metadata": {
        "colab": {
          "base_uri": "https://localhost:8080/"
        },
        "id": "UybCIMoG-ybo",
        "outputId": "3f4819c9-7871-49d6-f8fa-89835f2f3c45"
      },
      "execution_count": null,
      "outputs": [
        {
          "output_type": "stream",
          "name": "stdout",
          "text": [
            "Accuracy Random Forest with random search: 0.871017871017871\n"
          ]
        }
      ]
    },
    {
      "cell_type": "markdown",
      "metadata": {
        "id": "yu5DkxTBNBiA"
      },
      "source": [
        "## 12. Pokemoooooon, Ensemble!! (1.5 points)\n",
        "\n",
        "Estimate an ensemble of all the methods above to provide an even better prediction"
      ]
    },
    {
      "cell_type": "code",
      "execution_count": null,
      "metadata": {
        "vscode": {
          "languageId": "r"
        },
        "id": "Z6F6dz7XNBiA",
        "colab": {
          "base_uri": "https://localhost:8080/"
        },
        "outputId": "532a5d2e-9aca-41c7-9e5b-b12e80951002"
      },
      "outputs": [
        {
          "output_type": "execute_result",
          "data": {
            "text/plain": [
              "VotingClassifier(estimators=[('lr',\n",
              "                              LogisticRegression(max_iter=1000,\n",
              "                                                 random_state=1812)),\n",
              "                             ('rf',\n",
              "                              RandomForestClassifier(n_estimators=1000,\n",
              "                                                     random_state=1812)),\n",
              "                             ('svc', SVC(probability=True, random_state=1812)),\n",
              "                             ('rf_grid_search',\n",
              "                              GridSearchCV(cv=3,\n",
              "                                           estimator=RandomForestClassifier(random_state=42),\n",
              "                                           param_grid=[{'max_features': [8, 14],\n",
              "                                                        'n_estimators': [30,\n",
              "                                                                         100,\n",
              "                                                                         500...\n",
              "                                           return_train_score=True,\n",
              "                                           scoring='roc_auc')),\n",
              "                             ('rf_random_search',\n",
              "                              RandomizedSearchCV(cv=3,\n",
              "                                                 estimator=RandomForestClassifier(random_state=42),\n",
              "                                                 param_distributions={'max_features': <scipy.stats._distn_infrastructure.rv_frozen object at 0x7f8c802171d0>,\n",
              "                                                                      'n_estimators': <scipy.stats._distn_infrastructure.rv_frozen object at 0x7f8c7c62f450>},\n",
              "                                                 random_state=42,\n",
              "                                                 scoring='roc_auc'))])"
            ]
          },
          "metadata": {},
          "execution_count": 69
        }
      ],
      "source": [
        "# YOUR CODE HERE\n",
        "from sklearn.ensemble import VotingClassifier\n",
        "\n",
        "voting_clf = VotingClassifier(\n",
        "    estimators=[\n",
        "        ('lr', LR_clf),\n",
        "        ('rf', rf_clf),\n",
        "        ('svc', SVC_clf),\n",
        "        ('rf_grid_search', grid_search_RF),\n",
        "        ('svc_grid_search', grid_search_SVC),\n",
        "        ('rf_random_search',rnd_search_RF)\n",
        "        \n",
        "    ]\n",
        ")\n",
        "\n",
        "\n",
        "voting_clf.fit(x_train, y_train)"
      ]
    },
    {
      "cell_type": "code",
      "source": [
        "for name, clf in voting_clf.named_estimators_.items():\n",
        "    print(name, \"=\", clf.score(x_test, y_test))"
      ],
      "metadata": {
        "colab": {
          "base_uri": "https://localhost:8080/"
        },
        "id": "olH9iiFn4ByT",
        "outputId": "d53df80c-79b3-4c04-c9ce-6d335b5422c2"
      },
      "execution_count": null,
      "outputs": [
        {
          "output_type": "stream",
          "name": "stdout",
          "text": [
            "lr = 0.9192546583850931\n",
            "rf = 0.9254658385093167\n",
            "svc = 0.9192546583850931\n",
            "rf_grid_search = 0.9728049728049728\n",
            "svc_grid_search = 0.9557109557109558\n",
            "rf_random_search = 0.9753302253302253\n"
          ]
        }
      ]
    },
    {
      "cell_type": "code",
      "source": [
        "scores_voting_clf = voting_clf.score(x_test,y_test)\n",
        "scores_voting_clf\n",
        "print('Accuracy Voting Classifier:',scores_voting_clf)"
      ],
      "metadata": {
        "colab": {
          "base_uri": "https://localhost:8080/"
        },
        "id": "dM_1sRDUU_gM",
        "outputId": "0e068ea7-1725-4461-f28a-811a4bae4e9b"
      },
      "execution_count": null,
      "outputs": [
        {
          "output_type": "execute_result",
          "data": {
            "text/plain": [
              "0.9192546583850931"
            ]
          },
          "metadata": {},
          "execution_count": 85
        }
      ]
    },
    {
      "cell_type": "markdown",
      "metadata": {
        "dc": {
          "key": "75"
        },
        "deletable": false,
        "editable": false,
        "run_control": {
          "frozen": true
        },
        "tags": [
          "context"
        ],
        "id": "7pivKauaNBiB"
      },
      "source": [
        "## 13. Conclusions (1 point)\n",
        "Please, write here the conclusions of this wonderful study on legendary Pokémon. Think about it as a real report that you have to handle to your manager (or Pokémon trainer!)\n",
        "\n",
        "`# YOUR TEXT HERE`"
      ]
    },
    {
      "cell_type": "markdown",
      "metadata": {
        "id": "a57ZGZlVNBiB"
      },
      "source": [
        "--- "
      ]
    },
    {
      "cell_type": "markdown",
      "metadata": {
        "id": "1M6N6DRcNBiB"
      },
      "source": [
        "## Congratulations on completing your research into legendary Pokémon – Professor Oak is excited to share the findings! \n"
      ]
    }
  ],
  "metadata": {
    "kernelspec": {
      "display_name": "Python 3 (ipykernel)",
      "language": "python",
      "name": "python3"
    },
    "language_info": {
      "codemirror_mode": {
        "name": "ipython",
        "version": 3
      },
      "file_extension": ".py",
      "mimetype": "text/x-python",
      "name": "python",
      "nbconvert_exporter": "python",
      "pygments_lexer": "ipython3",
      "version": "3.9.12"
    },
    "colab": {
      "provenance": [],
      "collapsed_sections": [],
      "include_colab_link": true
    }
  },
  "nbformat": 4,
  "nbformat_minor": 0
}